{
 "cells": [
  {
   "cell_type": "code",
   "execution_count": 1,
   "id": "9a83b4c3",
   "metadata": {},
   "outputs": [],
   "source": [
    "# import 'Pandas' \n",
    "import pandas as pd \n",
    "\n",
    "# import 'Numpy' \n",
    "import numpy as np\n",
    "\n",
    "# import subpackage of Matplotlib\n",
    "import matplotlib.pyplot as plt\n",
    "from matplotlib.colors import ListedColormap\n",
    "\n",
    "# import 'Seaborn' \n",
    "import seaborn as sns\n",
    "\n",
    "# to suppress warnings \n",
    "from warnings import filterwarnings\n",
    "filterwarnings('ignore')\n",
    "\n",
    "# display all columns of the dataframe\n",
    "pd.options.display.max_columns = None\n",
    "\n",
    "# display all rows of the dataframe\n",
    "pd.options.display.max_rows = None\n",
    " \n",
    "# to display the float values upto 6 decimal places     \n",
    "pd.options.display.float_format = '{:.6f}'.format\n",
    "\n",
    "# import train-test split \n",
    "from sklearn.model_selection import train_test_split\n",
    "\n",
    "# import various functions from statsmodels\n",
    "import statsmodels\n",
    "import statsmodels.api as sm\n",
    "\n",
    "# import StandardScaler to perform scaling\n",
    "from sklearn.preprocessing import StandardScaler \n",
    "\n",
    "# import various functions from sklearn \n",
    "from sklearn import metrics\n",
    "from sklearn.linear_model import LogisticRegression\n",
    "from sklearn.metrics import classification_report\n",
    "from sklearn.metrics import cohen_kappa_score\n",
    "from sklearn.metrics import confusion_matrix\n",
    "from sklearn.metrics import roc_curve\n",
    "from sklearn.metrics import accuracy_score\n",
    "\n",
    "# import function to perform feature selection\n",
    "from sklearn.feature_selection import RFE"
   ]
  },
  {
   "cell_type": "code",
   "execution_count": 2,
   "id": "3a7563f5",
   "metadata": {},
   "outputs": [],
   "source": [
    "data=pd.read_csv(r\"~Sourav Rawat\\Downloads\\credit_card_approval.csv\")"
   ]
  },
  {
   "cell_type": "code",
   "execution_count": 3,
   "id": "eceedb7d",
   "metadata": {},
   "outputs": [
    {
     "data": {
      "text/html": [
       "<div>\n",
       "<style scoped>\n",
       "    .dataframe tbody tr th:only-of-type {\n",
       "        vertical-align: middle;\n",
       "    }\n",
       "\n",
       "    .dataframe tbody tr th {\n",
       "        vertical-align: top;\n",
       "    }\n",
       "\n",
       "    .dataframe thead th {\n",
       "        text-align: right;\n",
       "    }\n",
       "</style>\n",
       "<table border=\"1\" class=\"dataframe\">\n",
       "  <thead>\n",
       "    <tr style=\"text-align: right;\">\n",
       "      <th></th>\n",
       "      <th>ID</th>\n",
       "      <th>CODE_GENDER</th>\n",
       "      <th>FLAG_OWN_CAR</th>\n",
       "      <th>FLAG_OWN_REALTY</th>\n",
       "      <th>CNT_CHILDREN</th>\n",
       "      <th>AMT_INCOME_TOTAL</th>\n",
       "      <th>NAME_EDUCATION_TYPE</th>\n",
       "      <th>NAME_FAMILY_STATUS</th>\n",
       "      <th>NAME_HOUSING_TYPE</th>\n",
       "      <th>DAYS_BIRTH</th>\n",
       "      <th>DAYS_EMPLOYED</th>\n",
       "      <th>FLAG_MOBIL</th>\n",
       "      <th>FLAG_WORK_PHONE</th>\n",
       "      <th>FLAG_PHONE</th>\n",
       "      <th>FLAG_EMAIL</th>\n",
       "      <th>JOB</th>\n",
       "      <th>BEGIN_MONTHS</th>\n",
       "      <th>STATUS</th>\n",
       "      <th>TARGET</th>\n",
       "    </tr>\n",
       "  </thead>\n",
       "  <tbody>\n",
       "    <tr>\n",
       "      <th>0</th>\n",
       "      <td>5065438</td>\n",
       "      <td>F</td>\n",
       "      <td>Y</td>\n",
       "      <td>N</td>\n",
       "      <td>2+ children</td>\n",
       "      <td>270000.000000</td>\n",
       "      <td>Secondary / secondary special</td>\n",
       "      <td>Married</td>\n",
       "      <td>With parents</td>\n",
       "      <td>-13258</td>\n",
       "      <td>-2300</td>\n",
       "      <td>1</td>\n",
       "      <td>0</td>\n",
       "      <td>0</td>\n",
       "      <td>0</td>\n",
       "      <td>Managers</td>\n",
       "      <td>-6</td>\n",
       "      <td>C</td>\n",
       "      <td>0</td>\n",
       "    </tr>\n",
       "    <tr>\n",
       "      <th>1</th>\n",
       "      <td>5142753</td>\n",
       "      <td>F</td>\n",
       "      <td>N</td>\n",
       "      <td>N</td>\n",
       "      <td>No children</td>\n",
       "      <td>81000.000000</td>\n",
       "      <td>Secondary / secondary special</td>\n",
       "      <td>Single / not married</td>\n",
       "      <td>House / apartment</td>\n",
       "      <td>-17876</td>\n",
       "      <td>-377</td>\n",
       "      <td>1</td>\n",
       "      <td>1</td>\n",
       "      <td>1</td>\n",
       "      <td>0</td>\n",
       "      <td>Private service staff</td>\n",
       "      <td>-4</td>\n",
       "      <td>0</td>\n",
       "      <td>0</td>\n",
       "    </tr>\n",
       "    <tr>\n",
       "      <th>2</th>\n",
       "      <td>5111146</td>\n",
       "      <td>M</td>\n",
       "      <td>Y</td>\n",
       "      <td>Y</td>\n",
       "      <td>No children</td>\n",
       "      <td>270000.000000</td>\n",
       "      <td>Higher education</td>\n",
       "      <td>Married</td>\n",
       "      <td>House / apartment</td>\n",
       "      <td>-19579</td>\n",
       "      <td>-1028</td>\n",
       "      <td>1</td>\n",
       "      <td>0</td>\n",
       "      <td>1</td>\n",
       "      <td>0</td>\n",
       "      <td>Laborers</td>\n",
       "      <td>0</td>\n",
       "      <td>C</td>\n",
       "      <td>0</td>\n",
       "    </tr>\n",
       "    <tr>\n",
       "      <th>3</th>\n",
       "      <td>5010310</td>\n",
       "      <td>F</td>\n",
       "      <td>Y</td>\n",
       "      <td>Y</td>\n",
       "      <td>1 children</td>\n",
       "      <td>112500.000000</td>\n",
       "      <td>Secondary / secondary special</td>\n",
       "      <td>Married</td>\n",
       "      <td>House / apartment</td>\n",
       "      <td>-15109</td>\n",
       "      <td>-1956</td>\n",
       "      <td>1</td>\n",
       "      <td>0</td>\n",
       "      <td>0</td>\n",
       "      <td>0</td>\n",
       "      <td>Core staff</td>\n",
       "      <td>-3</td>\n",
       "      <td>0</td>\n",
       "      <td>0</td>\n",
       "    </tr>\n",
       "    <tr>\n",
       "      <th>4</th>\n",
       "      <td>5010835</td>\n",
       "      <td>M</td>\n",
       "      <td>Y</td>\n",
       "      <td>Y</td>\n",
       "      <td>2+ children</td>\n",
       "      <td>139500.000000</td>\n",
       "      <td>Secondary / secondary special</td>\n",
       "      <td>Married</td>\n",
       "      <td>House / apartment</td>\n",
       "      <td>-17281</td>\n",
       "      <td>-5578</td>\n",
       "      <td>1</td>\n",
       "      <td>1</td>\n",
       "      <td>0</td>\n",
       "      <td>0</td>\n",
       "      <td>Drivers</td>\n",
       "      <td>-29</td>\n",
       "      <td>0</td>\n",
       "      <td>0</td>\n",
       "    </tr>\n",
       "  </tbody>\n",
       "</table>\n",
       "</div>"
      ],
      "text/plain": [
       "        ID CODE_GENDER FLAG_OWN_CAR FLAG_OWN_REALTY CNT_CHILDREN  \\\n",
       "0  5065438           F            Y               N  2+ children   \n",
       "1  5142753           F            N               N  No children   \n",
       "2  5111146           M            Y               Y  No children   \n",
       "3  5010310           F            Y               Y   1 children   \n",
       "4  5010835           M            Y               Y  2+ children   \n",
       "\n",
       "   AMT_INCOME_TOTAL            NAME_EDUCATION_TYPE    NAME_FAMILY_STATUS  \\\n",
       "0     270000.000000  Secondary / secondary special               Married   \n",
       "1      81000.000000  Secondary / secondary special  Single / not married   \n",
       "2     270000.000000               Higher education               Married   \n",
       "3     112500.000000  Secondary / secondary special               Married   \n",
       "4     139500.000000  Secondary / secondary special               Married   \n",
       "\n",
       "   NAME_HOUSING_TYPE  DAYS_BIRTH  DAYS_EMPLOYED  FLAG_MOBIL  FLAG_WORK_PHONE  \\\n",
       "0       With parents      -13258          -2300           1                0   \n",
       "1  House / apartment      -17876           -377           1                1   \n",
       "2  House / apartment      -19579          -1028           1                0   \n",
       "3  House / apartment      -15109          -1956           1                0   \n",
       "4  House / apartment      -17281          -5578           1                1   \n",
       "\n",
       "   FLAG_PHONE  FLAG_EMAIL                    JOB  BEGIN_MONTHS STATUS  TARGET  \n",
       "0           0           0               Managers            -6      C       0  \n",
       "1           1           0  Private service staff            -4      0       0  \n",
       "2           1           0               Laborers             0      C       0  \n",
       "3           0           0             Core staff            -3      0       0  \n",
       "4           0           0                Drivers           -29      0       0  "
      ]
     },
     "execution_count": 3,
     "metadata": {},
     "output_type": "execute_result"
    }
   ],
   "source": [
    "data.head()"
   ]
  },
  {
   "cell_type": "code",
   "execution_count": 4,
   "id": "a4b31d8e",
   "metadata": {},
   "outputs": [
    {
     "data": {
      "text/plain": [
       "(537667, 19)"
      ]
     },
     "execution_count": 4,
     "metadata": {},
     "output_type": "execute_result"
    }
   ],
   "source": [
    "data.shape"
   ]
  },
  {
   "cell_type": "code",
   "execution_count": 5,
   "id": "d4a67454",
   "metadata": {},
   "outputs": [],
   "source": [
    "#data appears to be cleaned. no missing values found!"
   ]
  },
  {
   "cell_type": "code",
   "execution_count": 6,
   "id": "862179db",
   "metadata": {},
   "outputs": [
    {
     "data": {
      "text/plain": [
       "ID                     0\n",
       "CODE_GENDER            0\n",
       "FLAG_OWN_CAR           0\n",
       "FLAG_OWN_REALTY        0\n",
       "CNT_CHILDREN           0\n",
       "AMT_INCOME_TOTAL       0\n",
       "NAME_EDUCATION_TYPE    0\n",
       "NAME_FAMILY_STATUS     0\n",
       "NAME_HOUSING_TYPE      0\n",
       "DAYS_BIRTH             0\n",
       "DAYS_EMPLOYED          0\n",
       "FLAG_MOBIL             0\n",
       "FLAG_WORK_PHONE        0\n",
       "FLAG_PHONE             0\n",
       "FLAG_EMAIL             0\n",
       "JOB                    0\n",
       "BEGIN_MONTHS           0\n",
       "STATUS                 0\n",
       "TARGET                 0\n",
       "dtype: int64"
      ]
     },
     "execution_count": 6,
     "metadata": {},
     "output_type": "execute_result"
    }
   ],
   "source": [
    "data.isnull().sum()"
   ]
  },
  {
   "cell_type": "code",
   "execution_count": 7,
   "id": "529700a8",
   "metadata": {},
   "outputs": [
    {
     "name": "stdout",
     "output_type": "stream",
     "text": [
      "<class 'pandas.core.frame.DataFrame'>\n",
      "RangeIndex: 537667 entries, 0 to 537666\n",
      "Data columns (total 19 columns):\n",
      " #   Column               Non-Null Count   Dtype  \n",
      "---  ------               --------------   -----  \n",
      " 0   ID                   537667 non-null  int64  \n",
      " 1   CODE_GENDER          537667 non-null  object \n",
      " 2   FLAG_OWN_CAR         537667 non-null  object \n",
      " 3   FLAG_OWN_REALTY      537667 non-null  object \n",
      " 4   CNT_CHILDREN         537667 non-null  object \n",
      " 5   AMT_INCOME_TOTAL     537667 non-null  float64\n",
      " 6   NAME_EDUCATION_TYPE  537667 non-null  object \n",
      " 7   NAME_FAMILY_STATUS   537667 non-null  object \n",
      " 8   NAME_HOUSING_TYPE    537667 non-null  object \n",
      " 9   DAYS_BIRTH           537667 non-null  int64  \n",
      " 10  DAYS_EMPLOYED        537667 non-null  int64  \n",
      " 11  FLAG_MOBIL           537667 non-null  int64  \n",
      " 12  FLAG_WORK_PHONE      537667 non-null  int64  \n",
      " 13  FLAG_PHONE           537667 non-null  int64  \n",
      " 14  FLAG_EMAIL           537667 non-null  int64  \n",
      " 15  JOB                  537667 non-null  object \n",
      " 16  BEGIN_MONTHS         537667 non-null  int64  \n",
      " 17  STATUS               537667 non-null  object \n",
      " 18  TARGET               537667 non-null  int64  \n",
      "dtypes: float64(1), int64(9), object(9)\n",
      "memory usage: 77.9+ MB\n"
     ]
    }
   ],
   "source": [
    "data.info()"
   ]
  },
  {
   "cell_type": "code",
   "execution_count": 8,
   "id": "fe9ffa44",
   "metadata": {},
   "outputs": [],
   "source": [
    "#we are dropping the features that can cause multicolinearity \n",
    "#we did it through countplot and found that within the\n",
    "#the features the classes were imbalance\n",
    "#these dropped features make no sense with credit card approval"
   ]
  },
  {
   "cell_type": "code",
   "execution_count": null,
   "id": "195b5b81",
   "metadata": {},
   "outputs": [],
   "source": []
  },
  {
   "cell_type": "code",
   "execution_count": null,
   "id": "ef3a1cc9",
   "metadata": {},
   "outputs": [],
   "source": []
  },
  {
   "cell_type": "code",
   "execution_count": 9,
   "id": "8091e806",
   "metadata": {},
   "outputs": [],
   "source": [
    "data.drop([\"ID\",\"FLAG_MOBIL\",\"FLAG_WORK_PHONE\",\"FLAG_OWN_CAR\",\"FLAG_OWN_REALTY\"],axis=1,inplace=True)"
   ]
  },
  {
   "cell_type": "code",
   "execution_count": 10,
   "id": "75cd52e1",
   "metadata": {},
   "outputs": [],
   "source": [
    "data[\"TARGET\"]=data[\"TARGET\"].astype(object)"
   ]
  },
  {
   "cell_type": "code",
   "execution_count": null,
   "id": "ad0b6aeb",
   "metadata": {},
   "outputs": [],
   "source": []
  },
  {
   "cell_type": "code",
   "execution_count": 11,
   "id": "9b812bb3",
   "metadata": {},
   "outputs": [],
   "source": [
    "num=data.select_dtypes(include=np.number)"
   ]
  },
  {
   "cell_type": "code",
   "execution_count": 12,
   "id": "ec652a9b",
   "metadata": {},
   "outputs": [],
   "source": [
    "#outliers treatment\n",
    "#based on the datasize we are removing the outliers from the data which can  "
   ]
  },
  {
   "cell_type": "markdown",
   "id": "0e69b8d6",
   "metadata": {},
   "source": [
    "#capping the outliers\n",
    "for i in num:\n",
    "    q1,q3=np.quantile(data[i],[0.25,0.75])\n",
    "    iqr=q3-q1\n",
    "    ul=q3+(1.5*iqr)\n",
    "    ll=q1-(1.5*iqr)\n",
    "    data.loc[data[i]>ul,i]=ul\n",
    "    data.loc[data[i]<ll,i]=ll"
   ]
  },
  {
   "cell_type": "code",
   "execution_count": 13,
   "id": "b258fef9",
   "metadata": {},
   "outputs": [],
   "source": [
    "q1=data.quantile(0.25)\n",
    "q3=data.quantile(0.75)\n",
    "iqr=q3-q1\n",
    "upper_lim=q3+(1.5*iqr)\n",
    "\n",
    "lower_lim=q1-(1.5*iqr)\n",
    "newdata=data.loc[~((data<lower_lim)|(data>upper_lim)).any(axis=1)]"
   ]
  },
  {
   "cell_type": "code",
   "execution_count": null,
   "id": "bababaed",
   "metadata": {},
   "outputs": [],
   "source": []
  },
  {
   "cell_type": "code",
   "execution_count": 14,
   "id": "6017bcc9",
   "metadata": {},
   "outputs": [],
   "source": [
    "#we need to plot a pairplot for the newdata and see whats the pattern we are getting\n",
    "#for best model. # as we know just by the trend of the pairplot with the target we can infer the algoritm\n",
    "#whether it is  dtree or knn n so on"
   ]
  },
  {
   "cell_type": "code",
   "execution_count": 15,
   "id": "28c05ce5",
   "metadata": {},
   "outputs": [
    {
     "data": {
      "text/plain": [
       "(434696, 14)"
      ]
     },
     "execution_count": 15,
     "metadata": {},
     "output_type": "execute_result"
    }
   ],
   "source": [
    "newdata.shape"
   ]
  },
  {
   "cell_type": "code",
   "execution_count": 16,
   "id": "80c73b38",
   "metadata": {},
   "outputs": [
    {
     "data": {
      "text/plain": [
       "AMT_INCOME_TOTAL    0.621705\n",
       "DAYS_BIRTH         -0.295329\n",
       "DAYS_EMPLOYED      -0.889219\n",
       "FLAG_PHONE          0.909652\n",
       "FLAG_EMAIL          0.000000\n",
       "BEGIN_MONTHS       -0.606943\n",
       "TARGET             16.391783\n",
       "dtype: float64"
      ]
     },
     "execution_count": 16,
     "metadata": {},
     "output_type": "execute_result"
    }
   ],
   "source": [
    "newdata.skew()\n"
   ]
  },
  {
   "cell_type": "code",
   "execution_count": 17,
   "id": "2e703765",
   "metadata": {},
   "outputs": [],
   "source": [
    "#we splitted the numerical and categorical columns seperatly"
   ]
  },
  {
   "cell_type": "code",
   "execution_count": 18,
   "id": "8ed60c6f",
   "metadata": {},
   "outputs": [],
   "source": [
    "num=newdata.select_dtypes(include=np.number)\n",
    "cat=newdata.select_dtypes(exclude=np.number)"
   ]
  },
  {
   "cell_type": "code",
   "execution_count": null,
   "id": "e9b0b53d",
   "metadata": {},
   "outputs": [],
   "source": []
  },
  {
   "cell_type": "code",
   "execution_count": null,
   "id": "38b028ce",
   "metadata": {},
   "outputs": [],
   "source": []
  },
  {
   "cell_type": "code",
   "execution_count": 19,
   "id": "0c488c26",
   "metadata": {},
   "outputs": [],
   "source": [
    "#applying robust scaler because of  pressence of outliers."
   ]
  },
  {
   "cell_type": "code",
   "execution_count": 20,
   "id": "fde0305a",
   "metadata": {},
   "outputs": [],
   "source": [
    "from sklearn.preprocessing import RobustScaler\n",
    "rc=RobustScaler()\n",
    "scaled=pd.DataFrame(rc.fit_transform(num),columns=num.columns)"
   ]
  },
  {
   "cell_type": "code",
   "execution_count": 21,
   "id": "682d4f27",
   "metadata": {},
   "outputs": [
    {
     "data": {
      "text/html": [
       "<div>\n",
       "<style scoped>\n",
       "    .dataframe tbody tr th:only-of-type {\n",
       "        vertical-align: middle;\n",
       "    }\n",
       "\n",
       "    .dataframe tbody tr th {\n",
       "        vertical-align: top;\n",
       "    }\n",
       "\n",
       "    .dataframe thead th {\n",
       "        text-align: right;\n",
       "    }\n",
       "</style>\n",
       "<table border=\"1\" class=\"dataframe\">\n",
       "  <thead>\n",
       "    <tr style=\"text-align: right;\">\n",
       "      <th></th>\n",
       "      <th>AMT_INCOME_TOTAL</th>\n",
       "      <th>DAYS_BIRTH</th>\n",
       "      <th>DAYS_EMPLOYED</th>\n",
       "      <th>FLAG_PHONE</th>\n",
       "      <th>FLAG_EMAIL</th>\n",
       "      <th>BEGIN_MONTHS</th>\n",
       "    </tr>\n",
       "  </thead>\n",
       "  <tbody>\n",
       "    <tr>\n",
       "      <th>0</th>\n",
       "      <td>1.100000</td>\n",
       "      <td>0.256529</td>\n",
       "      <td>-0.117244</td>\n",
       "      <td>0.000000</td>\n",
       "      <td>0.000000</td>\n",
       "      <td>0.500000</td>\n",
       "    </tr>\n",
       "    <tr>\n",
       "      <th>1</th>\n",
       "      <td>-1.000000</td>\n",
       "      <td>-0.636874</td>\n",
       "      <td>0.705605</td>\n",
       "      <td>1.000000</td>\n",
       "      <td>0.000000</td>\n",
       "      <td>0.590909</td>\n",
       "    </tr>\n",
       "    <tr>\n",
       "      <th>2</th>\n",
       "      <td>1.100000</td>\n",
       "      <td>-0.966338</td>\n",
       "      <td>0.427043</td>\n",
       "      <td>1.000000</td>\n",
       "      <td>0.000000</td>\n",
       "      <td>0.772727</td>\n",
       "    </tr>\n",
       "    <tr>\n",
       "      <th>3</th>\n",
       "      <td>-0.650000</td>\n",
       "      <td>-0.101567</td>\n",
       "      <td>0.029953</td>\n",
       "      <td>0.000000</td>\n",
       "      <td>0.000000</td>\n",
       "      <td>0.636364</td>\n",
       "    </tr>\n",
       "    <tr>\n",
       "      <th>4</th>\n",
       "      <td>-0.350000</td>\n",
       "      <td>-0.521764</td>\n",
       "      <td>-1.519897</td>\n",
       "      <td>0.000000</td>\n",
       "      <td>0.000000</td>\n",
       "      <td>-0.545455</td>\n",
       "    </tr>\n",
       "  </tbody>\n",
       "</table>\n",
       "</div>"
      ],
      "text/plain": [
       "   AMT_INCOME_TOTAL  DAYS_BIRTH  DAYS_EMPLOYED  FLAG_PHONE  FLAG_EMAIL  \\\n",
       "0          1.100000    0.256529      -0.117244    0.000000    0.000000   \n",
       "1         -1.000000   -0.636874       0.705605    1.000000    0.000000   \n",
       "2          1.100000   -0.966338       0.427043    1.000000    0.000000   \n",
       "3         -0.650000   -0.101567       0.029953    0.000000    0.000000   \n",
       "4         -0.350000   -0.521764      -1.519897    0.000000    0.000000   \n",
       "\n",
       "   BEGIN_MONTHS  \n",
       "0      0.500000  \n",
       "1      0.590909  \n",
       "2      0.772727  \n",
       "3      0.636364  \n",
       "4     -0.545455  "
      ]
     },
     "execution_count": 21,
     "metadata": {},
     "output_type": "execute_result"
    }
   ],
   "source": [
    "scaled.head()"
   ]
  },
  {
   "cell_type": "markdown",
   "id": "f9fbc04c",
   "metadata": {},
   "source": [
    "# we used feature_engine library to encode the categorical data\n",
    "#according to this we give the respective weightage to the class considering the target column with each individual class\n",
    "#formula of woe is \n",
    "\n",
    "#log(p(X=xj|Y=1)/p(X=xj|Y=0))\n",
    "#probability of class when it was defaulter / probability of class when it was non-defaulter\n",
    "\n",
    "\n",
    "#why is it preffered compared to others\n",
    "* we got rid of curse of dimensionality\n",
    "* we gave equal importance to classes\n",
    "* we considered the classes with target and then gave weightage"
   ]
  },
  {
   "cell_type": "code",
   "execution_count": 22,
   "id": "1c0ac18d",
   "metadata": {},
   "outputs": [],
   "source": [
    "category=cat.drop(\"TARGET\",axis=1)\n",
    "from feature_engine.encoding import WoEEncoder\n",
    "woe=WoEEncoder()"
   ]
  },
  {
   "cell_type": "code",
   "execution_count": 23,
   "id": "041b540d",
   "metadata": {},
   "outputs": [
    {
     "data": {
      "text/plain": [
       "array(['C', '0', 'X', '2', '1', '5', '3', '4'], dtype=object)"
      ]
     },
     "execution_count": 23,
     "metadata": {},
     "output_type": "execute_result"
    }
   ],
   "source": [
    "category.STATUS.unique()\n",
    "#we ensured to keep deliquent a different lable so we marked them as 1 rest all 0.\n",
    "#1's are the category of people that has debt due more than a month and we want \n",
    "#our model to know these deliquent customers since it is the objective of our case study"
   ]
  },
  {
   "cell_type": "code",
   "execution_count": 24,
   "id": "ccdcf420",
   "metadata": {},
   "outputs": [],
   "source": [
    "safe=[\"0\",\"C\",\"X\"]\n",
    "def convert(string):\n",
    "    if string in safe:\n",
    "        return 0\n",
    "    else:\n",
    "        return 1"
   ]
  },
  {
   "cell_type": "code",
   "execution_count": 25,
   "id": "acbfecac",
   "metadata": {},
   "outputs": [],
   "source": [
    "category[\"STATUS\"]=category[\"STATUS\"].apply(convert)"
   ]
  },
  {
   "cell_type": "code",
   "execution_count": 26,
   "id": "ae1a60e6",
   "metadata": {},
   "outputs": [],
   "source": [
    "#we are rudcing the classes of each category in order to have similar data point in each class\n"
   ]
  },
  {
   "cell_type": "code",
   "execution_count": 27,
   "id": "58ed6c70",
   "metadata": {},
   "outputs": [],
   "source": [
    "def child(string):\n",
    "    if string==\"No children\":\n",
    "        return \"Nokid\"\n",
    "    else:\n",
    "        return \"withkids\""
   ]
  },
  {
   "cell_type": "code",
   "execution_count": 28,
   "id": "f7d2d2d7",
   "metadata": {},
   "outputs": [],
   "source": [
    "category[\"CNT_CHILDREN\"]=category[\"CNT_CHILDREN\"].apply(child)"
   ]
  },
  {
   "cell_type": "code",
   "execution_count": 29,
   "id": "a39d279d",
   "metadata": {},
   "outputs": [],
   "source": [
    "educated=[\"Academic degree\",\"Higher education\",\"Secondary / secondary special\"]\n",
    "def school(string):\n",
    "    if string in educated:\n",
    "        return \"educated\"\n",
    "    else:\n",
    "        return \"less_eduacted\"\n",
    "    \n",
    "    "
   ]
  },
  {
   "cell_type": "code",
   "execution_count": 30,
   "id": "64c385a0",
   "metadata": {},
   "outputs": [],
   "source": [
    "category[\"NAME_EDUCATION_TYPE\"]=category[\"NAME_EDUCATION_TYPE\"].apply(school)"
   ]
  },
  {
   "cell_type": "code",
   "execution_count": 31,
   "id": "568369b5",
   "metadata": {},
   "outputs": [],
   "source": [
    "married=[\"Married\",\"Civil marriage\"]\n",
    "def marriage(string):\n",
    "    if string in married:\n",
    "        return \"married\"\n",
    "    else:\n",
    "        return \"single\""
   ]
  },
  {
   "cell_type": "code",
   "execution_count": 32,
   "id": "bbcfd844",
   "metadata": {},
   "outputs": [],
   "source": [
    "category[\"NAME_FAMILY_STATUS\"]=category[\"NAME_FAMILY_STATUS\"].apply(marriage)"
   ]
  },
  {
   "cell_type": "code",
   "execution_count": null,
   "id": "60e25e59",
   "metadata": {},
   "outputs": [],
   "source": []
  },
  {
   "cell_type": "code",
   "execution_count": 33,
   "id": "b47ad49b",
   "metadata": {},
   "outputs": [],
   "source": [
    "def house(string):\n",
    "    \n",
    "    if string==\"Rented apartment\":\n",
    "        \n",
    "        \n",
    "        return \"payhousebills\"\n",
    "    else:\n",
    "        return \"dont_paybills\""
   ]
  },
  {
   "cell_type": "code",
   "execution_count": 34,
   "id": "7071e246",
   "metadata": {},
   "outputs": [],
   "source": [
    "category[\"NAME_HOUSING_TYPE\"]=category[\"NAME_HOUSING_TYPE\"].apply(house)"
   ]
  },
  {
   "cell_type": "code",
   "execution_count": 35,
   "id": "7204fa17",
   "metadata": {},
   "outputs": [],
   "source": [
    "cat['TARGET']=cat['TARGET'].astype(int)"
   ]
  },
  {
   "cell_type": "code",
   "execution_count": null,
   "id": "f0c7d8eb",
   "metadata": {},
   "outputs": [],
   "source": []
  },
  {
   "cell_type": "code",
   "execution_count": 36,
   "id": "361c5bfd",
   "metadata": {},
   "outputs": [],
   "source": [
    "good_pay=[\"Managers\",\"High skill tech staff\",\"Accountants\",\"IT staff\"]\n",
    "normal_pay=[\"Private service staff\",\"Secretaries\",\"Medicine staff\"]\n",
    "\n",
    "def job(string):\n",
    "    if string in good_pay:\n",
    "        return \"Goodpay\"\n",
    "    elif string in normal_pay:\n",
    "        return \"Normalpay\"\n",
    "    else:\n",
    "        return \"lesspay\"\n",
    "    "
   ]
  },
  {
   "cell_type": "code",
   "execution_count": 37,
   "id": "e6d066ee",
   "metadata": {},
   "outputs": [],
   "source": [
    "category[\"JOB\"]=category[\"JOB\"].apply(job)"
   ]
  },
  {
   "cell_type": "code",
   "execution_count": 38,
   "id": "25898e37",
   "metadata": {},
   "outputs": [],
   "source": [
    "encoded=woe.fit_transform(category,cat.TARGET)"
   ]
  },
  {
   "cell_type": "code",
   "execution_count": null,
   "id": "eb3bbc5a",
   "metadata": {},
   "outputs": [],
   "source": []
  },
  {
   "cell_type": "code",
   "execution_count": null,
   "id": "c5c1121f",
   "metadata": {},
   "outputs": [],
   "source": []
  },
  {
   "cell_type": "code",
   "execution_count": null,
   "id": "8574e65a",
   "metadata": {},
   "outputs": [],
   "source": []
  },
  {
   "cell_type": "code",
   "execution_count": null,
   "id": "9ffeef60",
   "metadata": {},
   "outputs": [],
   "source": []
  },
  {
   "cell_type": "code",
   "execution_count": 39,
   "id": "c44fd3b5",
   "metadata": {},
   "outputs": [
    {
     "data": {
      "text/plain": [
       "((434696, 7), (434696, 6))"
      ]
     },
     "execution_count": 39,
     "metadata": {},
     "output_type": "execute_result"
    }
   ],
   "source": [
    "encoded.shape,num.shape"
   ]
  },
  {
   "cell_type": "code",
   "execution_count": 40,
   "id": "563e7f8b",
   "metadata": {},
   "outputs": [
    {
     "data": {
      "text/html": [
       "<div>\n",
       "<style scoped>\n",
       "    .dataframe tbody tr th:only-of-type {\n",
       "        vertical-align: middle;\n",
       "    }\n",
       "\n",
       "    .dataframe tbody tr th {\n",
       "        vertical-align: top;\n",
       "    }\n",
       "\n",
       "    .dataframe thead th {\n",
       "        text-align: right;\n",
       "    }\n",
       "</style>\n",
       "<table border=\"1\" class=\"dataframe\">\n",
       "  <thead>\n",
       "    <tr style=\"text-align: right;\">\n",
       "      <th></th>\n",
       "      <th>AMT_INCOME_TOTAL</th>\n",
       "      <th>DAYS_BIRTH</th>\n",
       "      <th>DAYS_EMPLOYED</th>\n",
       "      <th>FLAG_PHONE</th>\n",
       "      <th>FLAG_EMAIL</th>\n",
       "      <th>BEGIN_MONTHS</th>\n",
       "    </tr>\n",
       "  </thead>\n",
       "  <tbody>\n",
       "    <tr>\n",
       "      <th>0</th>\n",
       "      <td>270000.000000</td>\n",
       "      <td>-13258</td>\n",
       "      <td>-2300</td>\n",
       "      <td>0</td>\n",
       "      <td>0</td>\n",
       "      <td>-6</td>\n",
       "    </tr>\n",
       "    <tr>\n",
       "      <th>1</th>\n",
       "      <td>81000.000000</td>\n",
       "      <td>-17876</td>\n",
       "      <td>-377</td>\n",
       "      <td>1</td>\n",
       "      <td>0</td>\n",
       "      <td>-4</td>\n",
       "    </tr>\n",
       "    <tr>\n",
       "      <th>2</th>\n",
       "      <td>270000.000000</td>\n",
       "      <td>-19579</td>\n",
       "      <td>-1028</td>\n",
       "      <td>1</td>\n",
       "      <td>0</td>\n",
       "      <td>0</td>\n",
       "    </tr>\n",
       "    <tr>\n",
       "      <th>3</th>\n",
       "      <td>112500.000000</td>\n",
       "      <td>-15109</td>\n",
       "      <td>-1956</td>\n",
       "      <td>0</td>\n",
       "      <td>0</td>\n",
       "      <td>-3</td>\n",
       "    </tr>\n",
       "    <tr>\n",
       "      <th>4</th>\n",
       "      <td>139500.000000</td>\n",
       "      <td>-17281</td>\n",
       "      <td>-5578</td>\n",
       "      <td>0</td>\n",
       "      <td>0</td>\n",
       "      <td>-29</td>\n",
       "    </tr>\n",
       "  </tbody>\n",
       "</table>\n",
       "</div>"
      ],
      "text/plain": [
       "   AMT_INCOME_TOTAL  DAYS_BIRTH  DAYS_EMPLOYED  FLAG_PHONE  FLAG_EMAIL  \\\n",
       "0     270000.000000      -13258          -2300           0           0   \n",
       "1      81000.000000      -17876           -377           1           0   \n",
       "2     270000.000000      -19579          -1028           1           0   \n",
       "3     112500.000000      -15109          -1956           0           0   \n",
       "4     139500.000000      -17281          -5578           0           0   \n",
       "\n",
       "   BEGIN_MONTHS  \n",
       "0            -6  \n",
       "1            -4  \n",
       "2             0  \n",
       "3            -3  \n",
       "4           -29  "
      ]
     },
     "execution_count": 40,
     "metadata": {},
     "output_type": "execute_result"
    }
   ],
   "source": [
    "num.head()"
   ]
  },
  {
   "cell_type": "code",
   "execution_count": 41,
   "id": "8abd5732",
   "metadata": {},
   "outputs": [],
   "source": [
    "category=pd.concat([encoded,cat.TARGET],axis=1)"
   ]
  },
  {
   "cell_type": "code",
   "execution_count": 44,
   "id": "e4f83f75",
   "metadata": {},
   "outputs": [],
   "source": [
    "category[\"sn\"]=np.arange(0,434696)"
   ]
  },
  {
   "cell_type": "code",
   "execution_count": 45,
   "id": "29ef2f44",
   "metadata": {},
   "outputs": [],
   "source": [
    "scaled[\"sn\"]=np.arange(0,434696)"
   ]
  },
  {
   "cell_type": "code",
   "execution_count": 46,
   "id": "152a01e0",
   "metadata": {},
   "outputs": [],
   "source": [
    "final_data=scaled.merge(category,on=\"sn\",how=\"inner\")"
   ]
  },
  {
   "cell_type": "code",
   "execution_count": 47,
   "id": "f8aa99e1",
   "metadata": {},
   "outputs": [
    {
     "data": {
      "text/plain": [
       "(434696, 15)"
      ]
     },
     "execution_count": 47,
     "metadata": {},
     "output_type": "execute_result"
    }
   ],
   "source": [
    "final_data.shape"
   ]
  },
  {
   "cell_type": "code",
   "execution_count": 48,
   "id": "fedb8f48",
   "metadata": {},
   "outputs": [],
   "source": [
    "final_data.drop(\"sn\",axis=1,inplace=True)"
   ]
  },
  {
   "cell_type": "code",
   "execution_count": 49,
   "id": "02a4e615",
   "metadata": {},
   "outputs": [],
   "source": [
    "from sklearn.model_selection import train_test_split\n",
    "X=final_data.drop(\"TARGET\",axis=1)\n",
    "y=final_data.TARGET"
   ]
  },
  {
   "cell_type": "code",
   "execution_count": 50,
   "id": "f8a2f40d",
   "metadata": {},
   "outputs": [],
   "source": [
    "xtrain,xtest,ytrain,ytest=train_test_split(X,y,test_size=0.30,random_state=1)"
   ]
  },
  {
   "cell_type": "code",
   "execution_count": 51,
   "id": "b96667f3",
   "metadata": {},
   "outputs": [
    {
     "name": "stdout",
     "output_type": "stream",
     "text": [
      "shape of xtrain (304287, 13)\n",
      "shape of xtest (130409, 13)\n",
      "shape of ytrain (304287,)\n",
      "shape of ytest (130409,)\n"
     ]
    }
   ],
   "source": [
    "print(\"shape of xtrain\",xtrain.shape)\n",
    "print(\"shape of xtest\",xtest.shape)\n",
    "\n",
    "print(\"shape of ytrain\",ytrain.shape)\n",
    "print(\"shape of ytest\",ytest.shape)"
   ]
  },
  {
   "cell_type": "code",
   "execution_count": 52,
   "id": "443654ea",
   "metadata": {},
   "outputs": [
    {
     "data": {
      "text/plain": [
       "0   0.996392\n",
       "1   0.003608\n",
       "Name: TARGET, dtype: float64"
      ]
     },
     "execution_count": 52,
     "metadata": {},
     "output_type": "execute_result"
    }
   ],
   "source": [
    "ytrain.value_counts(normalize=True)"
   ]
  },
  {
   "cell_type": "code",
   "execution_count": 53,
   "id": "b6714ce6",
   "metadata": {},
   "outputs": [],
   "source": [
    "from sklearn.metrics import recall_score,precision_score,confusion_matrix,f1_score,classification_report,cohen_kappa_score"
   ]
  },
  {
   "cell_type": "code",
   "execution_count": 54,
   "id": "2f85233b",
   "metadata": {},
   "outputs": [],
   "source": [
    "#base model without balancing\n"
   ]
  },
  {
   "cell_type": "code",
   "execution_count": 55,
   "id": "1fea54df",
   "metadata": {},
   "outputs": [
    {
     "data": {
      "text/plain": [
       "LogisticRegression()"
      ]
     },
     "execution_count": 55,
     "metadata": {},
     "output_type": "execute_result"
    }
   ],
   "source": [
    "from sklearn.linear_model import LogisticRegression\n",
    "lr=LogisticRegression()\n",
    "lr.fit(xtrain,ytrain)"
   ]
  },
  {
   "cell_type": "code",
   "execution_count": 56,
   "id": "ad2ccc50",
   "metadata": {},
   "outputs": [
    {
     "name": "stdout",
     "output_type": "stream",
     "text": [
      "****************LOGESTIC REGRESSION ALGORITHM********************************\n",
      "recall score: 0.07370517928286853\n",
      "precision score: 0.5967741935483871\n",
      "[[129882     25]\n",
      " [   465     37]]\n",
      "f1 score: 0.13120567375886524\n",
      "accuracy 0.9962425906187456\n",
      "kappa score 0.13046976593376036\n",
      "              precision    recall  f1-score   support\n",
      "\n",
      "           0       1.00      1.00      1.00    129907\n",
      "           1       0.60      0.07      0.13       502\n",
      "\n",
      "    accuracy                           1.00    130409\n",
      "   macro avg       0.80      0.54      0.56    130409\n",
      "weighted avg       0.99      1.00      0.99    130409\n",
      "\n"
     ]
    }
   ],
   "source": [
    "pred=lr.predict(xtest)\n",
    "print(\"****************LOGESTIC REGRESSION ALGORITHM********************************\")\n",
    "\n",
    "print(\"recall score:\",recall_score(ytest,pred))\n",
    "print(\"precision score:\",precision_score(ytest,pred))\n",
    "print(confusion_matrix(ytest,pred))\n",
    "print(\"f1 score:\",f1_score(ytest,pred))\n",
    "print(\"accuracy\",accuracy_score(ytest,pred))\n",
    "print(\"kappa score\",cohen_kappa_score(ytest,pred))\n",
    "print(classification_report(ytest,pred))\n",
    "#we have good accuracy but at the same time we need to consider performance metrix\n",
    "#since dataset is highly imbalance so considering average weightage of recall and precision is must."
   ]
  },
  {
   "cell_type": "code",
   "execution_count": 57,
   "id": "f582f333",
   "metadata": {},
   "outputs": [],
   "source": [
    "from sklearn.metrics import roc_curve"
   ]
  },
  {
   "cell_type": "code",
   "execution_count": 262,
   "id": "6f840ce7",
   "metadata": {},
   "outputs": [
    {
     "data": {
      "image/png": "[encoded data removed]",
      "text/plain": [
       "<Figure size 500x300 with 1 Axes>"
      ]
     },
     "metadata": {},
     "output_type": "display_data"
    }
   ],
   "source": [
    "FPR,TPR,threshold=roc_curve(ytest,pred)\n",
    "plt.plot(FPR,TPR)\n",
    "plt.xlim([0.0,1.0])\n",
    "plt.ylim([0.0,1.0])\n",
    "plt.plot([0,1],[0,1],\"r--\")\n",
    "plt.xlabel(\"FPR\")\n",
    "plt.ylabel(\"TPR\")\n",
    "plt.text(x=0.02,y=0.9,s=(\"AUC Score:\",round(metrics.roc_auc_score(ytest,pred),4)))\n",
    "plt.grid(True)"
   ]
  },
  {
   "cell_type": "code",
   "execution_count": 3,
   "id": "883e91e3",
   "metadata": {},
   "outputs": [],
   "source": [
    "from sklearn.neighbors import KNeighborsClassifier\n"
   ]
  },
  {
   "cell_type": "code",
   "execution_count": 4,
   "id": "a03d2744",
   "metadata": {},
   "outputs": [],
   "source": [
    "KNN=KNeighborsClassifier()"
   ]
  },
  {
   "cell_type": "code",
   "execution_count": 2,
   "id": "013d601a",
   "metadata": {},
   "outputs": [],
   "source": [
    "from sklearn.tree import DecisionTreeClassifier"
   ]
  },
  {
   "cell_type": "code",
   "execution_count": 266,
   "id": "f2c0993d",
   "metadata": {},
   "outputs": [],
   "source": [
    "dtree=DecisionTreeClassifier(criterion=\"entropy\",max_depth=10,class_weight=\"balanced\")"
   ]
  },
  {
   "cell_type": "code",
   "execution_count": 267,
   "id": "97d13482",
   "metadata": {},
   "outputs": [],
   "source": [
    "modeltree=dtree.fit(xtrain,ytrain)"
   ]
  },
  {
   "cell_type": "code",
   "execution_count": 268,
   "id": "f808ea7a",
   "metadata": {},
   "outputs": [],
   "source": [
    "pred=modeltree.predict(xtest)"
   ]
  },
  {
   "cell_type": "code",
   "execution_count": 269,
   "id": "aa322298",
   "metadata": {},
   "outputs": [],
   "source": [
    "from sklearn.metrics import recall_score,precision_score,confusion_matrix,f1_score"
   ]
  },
  {
   "cell_type": "code",
   "execution_count": 270,
   "id": "a97465dc",
   "metadata": {},
   "outputs": [
    {
     "name": "stdout",
     "output_type": "stream",
     "text": [
      "****************DECISION TREE CLASSIFIER********************************\n",
      "recall score: 0.9703315881326352\n",
      "precision score: 0.26898887276245764\n",
      "[[159217   1511]\n",
      " [    17    556]]\n",
      "f1 score: 0.4212121212121211\n",
      "accuracy 0.9905270271108053\n",
      "kappa score 0.41797449937510656\n",
      "              precision    recall  f1-score   support\n",
      "\n",
      "           0       1.00      0.99      1.00    160728\n",
      "           1       0.27      0.97      0.42       573\n",
      "\n",
      "    accuracy                           0.99    161301\n",
      "   macro avg       0.63      0.98      0.71    161301\n",
      "weighted avg       1.00      0.99      0.99    161301\n",
      "\n"
     ]
    }
   ],
   "source": [
    "print(\"****************DECISION TREE CLASSIFIER********************************\")\n",
    "\n",
    "print(\"recall score:\",recall_score(ytest,pred))\n",
    "print(\"precision score:\",precision_score(ytest,pred))\n",
    "print(confusion_matrix(ytest,pred))\n",
    "print(\"f1 score:\",f1_score(ytest,pred))\n",
    "print(\"accuracy\",accuracy_score(ytest,pred))\n",
    "print(\"kappa score\",cohen_kappa_score(ytest,pred))\n",
    "print(classification_report(ytest,pred))\n"
   ]
  },
  {
   "cell_type": "code",
   "execution_count": 271,
   "id": "3a75dbe1",
   "metadata": {},
   "outputs": [
    {
     "data": {
      "image/png": "[encoded data removed]",
      "text/plain": [
       "<Figure size 500x300 with 1 Axes>"
      ]
     },
     "metadata": {},
     "output_type": "display_data"
    }
   ],
   "source": [
    "FPR,TPR,threshold=roc_curve(ytest,pred)\n",
    "plt.plot(FPR,TPR)\n",
    "plt.xlim([0.0,1.0])\n",
    "plt.ylim([0.0,1.0])\n",
    "plt.plot([0,1],[0,1],\"r--\")\n",
    "plt.xlabel(\"FPR\")\n",
    "plt.ylabel(\"TPR\")\n",
    "plt.text(x=0.02,y=0.9,s=(\"AUC Score:\",round(metrics.roc_auc_score(ytest,pred),4)))\n",
    "plt.grid(True)"
   ]
  },
  {
   "cell_type": "code",
   "execution_count": 5,
   "id": "bb2b489a",
   "metadata": {},
   "outputs": [],
   "source": [
    "from sklearn.ensemble import RandomForestClassifier"
   ]
  },
  {
   "cell_type": "code",
   "execution_count": 273,
   "id": "0f8d4b8e",
   "metadata": {},
   "outputs": [],
   "source": [
    "rfc=RandomForestClassifier(n_estimators=400,max_depth=10,class_weight=\"balanced\",random_state=10)\n",
    "modelrfc=rfc.fit(xtrain,ytrain)\n",
    "\n"
   ]
  },
  {
   "cell_type": "code",
   "execution_count": 274,
   "id": "0517a286",
   "metadata": {},
   "outputs": [
    {
     "name": "stdout",
     "output_type": "stream",
     "text": [
      "****************Random Forest Classifier********************************\n",
      "recall score: 0.9860383944153578\n",
      "precision score: 0.25033229951262737\n",
      "[[159036   1692]\n",
      " [     8    565]]\n",
      "f1 score: 0.3992932862190812\n",
      "accuracy 0.9894606977018121\n",
      "kappa score 0.39587015955670546\n",
      "              precision    recall  f1-score   support\n",
      "\n",
      "           0       1.00      0.99      0.99    160728\n",
      "           1       0.25      0.99      0.40       573\n",
      "\n",
      "    accuracy                           0.99    161301\n",
      "   macro avg       0.63      0.99      0.70    161301\n",
      "weighted avg       1.00      0.99      0.99    161301\n",
      "\n"
     ]
    }
   ],
   "source": [
    "pred=modelrfc.predict(xtest)\n",
    "print(\"****************Random Forest Classifier********************************\")\n",
    "\n",
    "print(\"recall score:\",recall_score(ytest,pred))\n",
    "print(\"precision score:\",precision_score(ytest,pred))\n",
    "print(confusion_matrix(ytest,pred))\n",
    "print(\"f1 score:\",f1_score(ytest,pred))\n",
    "print(\"accuracy\",accuracy_score(ytest,pred))\n",
    "print(\"kappa score\",cohen_kappa_score(ytest,pred))\n",
    "print(classification_report(ytest,pred))"
   ]
  },
  {
   "cell_type": "code",
   "execution_count": 275,
   "id": "a0d31f28",
   "metadata": {},
   "outputs": [
    {
     "data": {
      "image/png": "[encoded data removed]",
      "text/plain": [
       "<Figure size 500x300 with 1 Axes>"
      ]
     },
     "metadata": {},
     "output_type": "display_data"
    }
   ],
   "source": [
    "FPR,TPR,threshold=roc_curve(ytest,pred)\n",
    "plt.plot(FPR,TPR)\n",
    "plt.xlim([0.0,1.0])\n",
    "plt.ylim([0.0,1.0])\n",
    "plt.plot([0,1],[0,1],\"r--\")\n",
    "plt.xlabel(\"FPR\")\n",
    "plt.ylabel(\"TPR\")\n",
    "plt.text(x=0.02,y=0.9,s=(\"AUC Score:\",round(metrics.roc_auc_score(ytest,pred),4)))\n",
    "plt.grid(True)"
   ]
  },
  {
   "cell_type": "code",
   "execution_count": 208,
   "id": "a22c5a6c",
   "metadata": {},
   "outputs": [],
   "source": [
    "#since the data was highly imabalance so we are focusing on high variance algorithm like\n",
    "#dtree random forest and xgboost in order to focus on minorities"
   ]
  },
  {
   "cell_type": "code",
   "execution_count": 210,
   "id": "00a07110",
   "metadata": {},
   "outputs": [
    {
     "data": {
      "text/plain": [
       "XGBClassifier(base_score=0.5, booster='gbtree', callbacks=None,\n",
       "              colsample_bylevel=1, colsample_bynode=1, colsample_bytree=1,\n",
       "              early_stopping_rounds=None, enable_categorical=False,\n",
       "              eval_metric=None, feature_types=None, gamma=0, gpu_id=-1,\n",
       "              grow_policy='depthwise', importance_type=None,\n",
       "              interaction_constraints='', learning_rate=0.300000012,\n",
       "              max_bin=256, max_cat_threshold=64, max_cat_to_onehot=4,\n",
       "              max_delta_step=0, max_depth=6, max_leaves=0, min_child_weight=1,\n",
       "              missing=nan, monotone_constraints='()', n_estimators=100,\n",
       "              n_jobs=0, num_parallel_tree=1, predictor='auto', random_state=0, ...)"
      ]
     },
     "execution_count": 210,
     "metadata": {},
     "output_type": "execute_result"
    }
   ],
   "source": [
    "from xgboost import XGBClassifier\n",
    "xgb=XGBClassifier()\n",
    "xgb.fit(xtrain,ytrain)"
   ]
  },
  {
   "cell_type": "code",
   "execution_count": 211,
   "id": "1d9c481f",
   "metadata": {},
   "outputs": [
    {
     "name": "stdout",
     "output_type": "stream",
     "text": [
      "****************XGBOOST********************************\n",
      "recall score: 0.7521815008726004\n",
      "precision score: 0.8385214007782101\n",
      "[[160645     83]\n",
      " [   142    431]]\n",
      "f1 score: 0.7930082796688133\n",
      "accuracy 0.9986050923428869\n",
      "kappa score 0.7923105364937095\n",
      "              precision    recall  f1-score   support\n",
      "\n",
      "           0       1.00      1.00      1.00    160728\n",
      "           1       0.84      0.75      0.79       573\n",
      "\n",
      "    accuracy                           1.00    161301\n",
      "   macro avg       0.92      0.88      0.90    161301\n",
      "weighted avg       1.00      1.00      1.00    161301\n",
      "\n"
     ]
    }
   ],
   "source": [
    "pred=xgb.predict(xtest)\n",
    "print(\"****************XGBOOST********************************\")\n",
    "\n",
    "print(\"recall score:\",recall_score(ytest,pred))\n",
    "print(\"precision score:\",precision_score(ytest,pred))\n",
    "print(confusion_matrix(ytest,pred))\n",
    "print(\"f1 score:\",f1_score(ytest,pred))\n",
    "print(\"accuracy\",accuracy_score(ytest,pred))\n",
    "print(\"kappa score\",cohen_kappa_score(ytest,pred))\n",
    "print(classification_report(ytest,pred))"
   ]
  },
  {
   "cell_type": "code",
   "execution_count": null,
   "id": "54ede11d",
   "metadata": {},
   "outputs": [],
   "source": []
  },
  {
   "cell_type": "code",
   "execution_count": 212,
   "id": "702191f2",
   "metadata": {},
   "outputs": [],
   "source": [
    "#we concluded that we are having f1 score better when we applied xgboost \n",
    "#reason being we need to study how xgboost works"
   ]
  },
  {
   "cell_type": "code",
   "execution_count": 213,
   "id": "a5f9d9e5",
   "metadata": {},
   "outputs": [],
   "source": [
    "# we will do hyperparameter tuning in the xgboost to get sound f1 score"
   ]
  },
  {
   "cell_type": "code",
   "execution_count": null,
   "id": "4c659e8b",
   "metadata": {},
   "outputs": [],
   "source": []
  },
  {
   "cell_type": "code",
   "execution_count": 277,
   "id": "a3a43735",
   "metadata": {},
   "outputs": [],
   "source": [
    "from imblearn.over_sampling import SMOTE"
   ]
  },
  {
   "cell_type": "code",
   "execution_count": 278,
   "id": "388a7085",
   "metadata": {},
   "outputs": [],
   "source": [
    "smote=SMOTE()"
   ]
  },
  {
   "cell_type": "code",
   "execution_count": 279,
   "id": "8de5e42e",
   "metadata": {},
   "outputs": [],
   "source": [
    "bxtrain,bytrain=smote.fit_resample(xtrain,ytrain)"
   ]
  },
  {
   "cell_type": "code",
   "execution_count": 280,
   "id": "a6f4e6d8",
   "metadata": {},
   "outputs": [
    {
     "name": "stdout",
     "output_type": "stream",
     "text": [
      "shape of balanced xtrain (749954, 13)\n",
      "shape of balanced ytrain (749954,)\n"
     ]
    }
   ],
   "source": [
    "print(\"shape of balanced xtrain\",bxtrain.shape)\n",
    "print(\"shape of balanced ytrain\",bytrain.shape)"
   ]
  },
  {
   "cell_type": "code",
   "execution_count": 281,
   "id": "2920ceec",
   "metadata": {},
   "outputs": [
    {
     "data": {
      "text/plain": [
       "0   0.500000\n",
       "1   0.500000\n",
       "Name: TARGET, dtype: float64"
      ]
     },
     "execution_count": 281,
     "metadata": {},
     "output_type": "execute_result"
    }
   ],
   "source": [
    "bytrain.value_counts(normalize=True)"
   ]
  },
  {
   "cell_type": "code",
   "execution_count": null,
   "id": "8bed4cdd",
   "metadata": {},
   "outputs": [],
   "source": []
  },
  {
   "cell_type": "code",
   "execution_count": 7,
   "id": "9c8da9cc",
   "metadata": {},
   "outputs": [],
   "source": [
    "from sklearn.ensemble import GradientBoostingClassifier"
   ]
  },
  {
   "cell_type": "code",
   "execution_count": null,
   "id": "c2ec6b4c",
   "metadata": {},
   "outputs": [],
   "source": [
    "GradientBoostingClassifier()"
   ]
  },
  {
   "cell_type": "code",
   "execution_count": 282,
   "id": "ca3c8ffa",
   "metadata": {},
   "outputs": [
    {
     "name": "stdout",
     "output_type": "stream",
     "text": [
      "****************Random Forest Classifier balanced********************************\n",
      "recall score: 0.9842931937172775\n",
      "precision score: 0.25033288948069243\n",
      "f1 score: 0.39915074309978776\n",
      "[[159039   1689]\n",
      " [     9    564]]\n",
      "kappa score 0.39572804153765306\n",
      "              precision    recall  f1-score   support\n",
      "\n",
      "           0       1.00      0.99      0.99    160728\n",
      "           1       0.25      0.98      0.40       573\n",
      "\n",
      "    accuracy                           0.99    161301\n",
      "   macro avg       0.63      0.99      0.70    161301\n",
      "weighted avg       1.00      0.99      0.99    161301\n",
      "\n",
      "model accuracy 0.9949703581819684\n"
     ]
    }
   ],
   "source": [
    "rfc=RandomForestClassifier(n_estimators=400,max_depth=10,random_state=10,n_jobs=-1,class_weight=\"balanced\")\n",
    "modelrfc=rfc.fit(bxtrain,bytrain)\n",
    "pred=modelrfc.predict(xtest)\n",
    "print(\"****************Random Forest Classifier balanced********************************\")\n",
    "\n",
    "print(\"recall score:\",recall_score(ytest,pred))\n",
    "print(\"precision score:\",precision_score(ytest,pred))\n",
    "print(\"f1 score:\",f1_score(ytest,pred))\n",
    "print(confusion_matrix(ytest,pred))\n",
    "print(\"kappa score\",cohen_kappa_score(ytest,pred))\n",
    "print(classification_report(ytest,pred))\n",
    "print(\"model accuracy\",modelrfc.score(bxtrain,bytrain))"
   ]
  },
  {
   "cell_type": "code",
   "execution_count": 283,
   "id": "667d28a9",
   "metadata": {},
   "outputs": [
    {
     "data": {
      "image/png": "[encoded data removed]",
      "text/plain": [
       "<Figure size 500x300 with 1 Axes>"
      ]
     },
     "metadata": {},
     "output_type": "display_data"
    }
   ],
   "source": [
    "FPR,TPR,threshold=roc_curve(ytest,pred)\n",
    "plt.plot(FPR,TPR)\n",
    "plt.xlim([0.0,1.0])\n",
    "plt.ylim([0.0,1.0])\n",
    "plt.plot([0,1],[0,1],\"r--\")\n",
    "plt.xlabel(\"FPR\")\n",
    "plt.ylabel(\"TPR\")\n",
    "plt.text(x=0.02,y=0.9,s=(\"AUC Score:\",round(metrics.roc_auc_score(ytest,pred),4)))\n",
    "plt.grid(True)"
   ]
  },
  {
   "cell_type": "code",
   "execution_count": 285,
   "id": "c95a7d17",
   "metadata": {},
   "outputs": [
    {
     "name": "stdout",
     "output_type": "stream",
     "text": [
      "[0.         0.01050844 1.        ] [0.         0.98429319 1.        ]\n"
     ]
    }
   ],
   "source": [
    "print(FPR,TPR)"
   ]
  },
  {
   "cell_type": "code",
   "execution_count": 286,
   "id": "df51b9d1",
   "metadata": {},
   "outputs": [],
   "source": [
    "score_card=pd.DataFrame(columns=[\"Probability Cutoff\",\"AUC Score\",\n",
    "                     \"Precision Score\",\"Recall Score\",\n",
    "                     \"Accuracy Score\",\"Kappa Score\",\n",
    "                     \"f1-Score\"])"
   ]
  },
  {
   "cell_type": "code",
   "execution_count": 287,
   "id": "45ef2418",
   "metadata": {},
   "outputs": [],
   "source": [
    "def update_score_card(model,cutoff):\n",
    "    y_pred_prob=model.predict(xtest)\n",
    "    \n",
    "    y_pred=[0 if x<cutoff else 1 for x in y_pred_prob]\n",
    "    global score_card\n",
    "    score_card.append({\"Probability Cutoff\":cutoff,\n",
    "                       \"AUC Score\":metrics.roc_auc_score(ytest,y_pred),\n",
    "                       \"Precision Score\":metrics.precision_score(ytest,y_pred),\n",
    "                       \"Recall Score\":metrics.recall_score(ytest,y_pred),\n",
    "                       \"Accuracy Score\":metrics.accuracy_score(ytest,y_pred),\n",
    "                       \"Kappa Score\":metrics.cohen_kappa_score(ytest,y_pred),\n",
    "                       \"f1-Score\":metrics.f1_score(ytest,y_pred)},\n",
    "                      ignore_index=True)"
   ]
  },
  {
   "cell_type": "code",
   "execution_count": 288,
   "id": "77c66b89",
   "metadata": {},
   "outputs": [
    {
     "data": {
      "text/html": [
       "<div>\n",
       "<style scoped>\n",
       "    .dataframe tbody tr th:only-of-type {\n",
       "        vertical-align: middle;\n",
       "    }\n",
       "\n",
       "    .dataframe tbody tr th {\n",
       "        vertical-align: top;\n",
       "    }\n",
       "\n",
       "    .dataframe thead th {\n",
       "        text-align: right;\n",
       "    }\n",
       "</style>\n",
       "<table border=\"1\" class=\"dataframe\">\n",
       "  <thead>\n",
       "    <tr style=\"text-align: right;\">\n",
       "      <th></th>\n",
       "      <th>Probability Cutoff</th>\n",
       "      <th>AUC Score</th>\n",
       "      <th>Precision Score</th>\n",
       "      <th>Recall Score</th>\n",
       "      <th>Accuracy Score</th>\n",
       "      <th>Kappa Score</th>\n",
       "      <th>f1-Score</th>\n",
       "    </tr>\n",
       "  </thead>\n",
       "  <tbody>\n",
       "  </tbody>\n",
       "</table>\n",
       "</div>"
      ],
      "text/plain": [
       "Empty DataFrame\n",
       "Columns: [Probability Cutoff, AUC Score, Precision Score, Recall Score, Accuracy Score, Kappa Score, f1-Score]\n",
       "Index: []"
      ]
     },
     "execution_count": 288,
     "metadata": {},
     "output_type": "execute_result"
    }
   ],
   "source": []
  },
  {
   "cell_type": "code",
   "execution_count": 289,
   "id": "1efe9cb2",
   "metadata": {},
   "outputs": [],
   "source": [
    "cutoff=[0.1,0.2,0.3,0.4,0.5,0.6,0.7,0.8,0.9]\n",
    "for i in cutoff:\n",
    "    update_score_card(modelrfc,i)\n",
    "    "
   ]
  },
  {
   "cell_type": "code",
   "execution_count": 290,
   "id": "5524f5a5",
   "metadata": {},
   "outputs": [],
   "source": [
    "#we will print the score card\n",
    "score_card=score_card.sort_values(\"Probability Cutoff\").reset_index(drop=True)"
   ]
  },
  {
   "cell_type": "code",
   "execution_count": 291,
   "id": "679d59f3",
   "metadata": {},
   "outputs": [
    {
     "ename": "ValueError",
     "evalue": "Length of values (0) does not match length of index (4)",
     "output_type": "error",
     "traceback": [
      "\u001b[1;31m---------------------------------------------------------------------------\u001b[0m",
      "\u001b[1;31mValueError\u001b[0m                                Traceback (most recent call last)",
      "\u001b[1;32m~\\anaconda3\\lib\\site-packages\\IPython\\core\\formatters.py\u001b[0m in \u001b[0;36m__call__\u001b[1;34m(self, obj)\u001b[0m\n\u001b[0;32m    343\u001b[0m             \u001b[0mmethod\u001b[0m \u001b[1;33m=\u001b[0m \u001b[0mget_real_method\u001b[0m\u001b[1;33m(\u001b[0m\u001b[0mobj\u001b[0m\u001b[1;33m,\u001b[0m \u001b[0mself\u001b[0m\u001b[1;33m.\u001b[0m\u001b[0mprint_method\u001b[0m\u001b[1;33m)\u001b[0m\u001b[1;33m\u001b[0m\u001b[1;33m\u001b[0m\u001b[0m\n\u001b[0;32m    344\u001b[0m             \u001b[1;32mif\u001b[0m \u001b[0mmethod\u001b[0m \u001b[1;32mis\u001b[0m \u001b[1;32mnot\u001b[0m \u001b[1;32mNone\u001b[0m\u001b[1;33m:\u001b[0m\u001b[1;33m\u001b[0m\u001b[1;33m\u001b[0m\u001b[0m\n\u001b[1;32m--> 345\u001b[1;33m                 \u001b[1;32mreturn\u001b[0m \u001b[0mmethod\u001b[0m\u001b[1;33m(\u001b[0m\u001b[1;33m)\u001b[0m\u001b[1;33m\u001b[0m\u001b[1;33m\u001b[0m\u001b[0m\n\u001b[0m\u001b[0;32m    346\u001b[0m             \u001b[1;32mreturn\u001b[0m \u001b[1;32mNone\u001b[0m\u001b[1;33m\u001b[0m\u001b[1;33m\u001b[0m\u001b[0m\n\u001b[0;32m    347\u001b[0m         \u001b[1;32melse\u001b[0m\u001b[1;33m:\u001b[0m\u001b[1;33m\u001b[0m\u001b[1;33m\u001b[0m\u001b[0m\n",
      "\u001b[1;32m~\\anaconda3\\lib\\site-packages\\pandas\\io\\formats\\style.py\u001b[0m in \u001b[0;36m_repr_html_\u001b[1;34m(self)\u001b[0m\n\u001b[0;32m    270\u001b[0m         \"\"\"\n\u001b[0;32m    271\u001b[0m         \u001b[1;32mif\u001b[0m \u001b[0mget_option\u001b[0m\u001b[1;33m(\u001b[0m\u001b[1;34m\"styler.render.repr\"\u001b[0m\u001b[1;33m)\u001b[0m \u001b[1;33m==\u001b[0m \u001b[1;34m\"html\"\u001b[0m\u001b[1;33m:\u001b[0m\u001b[1;33m\u001b[0m\u001b[1;33m\u001b[0m\u001b[0m\n\u001b[1;32m--> 272\u001b[1;33m             \u001b[1;32mreturn\u001b[0m \u001b[0mself\u001b[0m\u001b[1;33m.\u001b[0m\u001b[0mto_html\u001b[0m\u001b[1;33m(\u001b[0m\u001b[1;33m)\u001b[0m\u001b[1;33m\u001b[0m\u001b[1;33m\u001b[0m\u001b[0m\n\u001b[0m\u001b[0;32m    273\u001b[0m         \u001b[1;32mreturn\u001b[0m \u001b[1;32mNone\u001b[0m\u001b[1;33m\u001b[0m\u001b[1;33m\u001b[0m\u001b[0m\n\u001b[0;32m    274\u001b[0m \u001b[1;33m\u001b[0m\u001b[0m\n",
      "\u001b[1;32m~\\anaconda3\\lib\\site-packages\\pandas\\io\\formats\\style.py\u001b[0m in \u001b[0;36mto_html\u001b[1;34m(self, buf, table_uuid, table_attributes, sparse_index, sparse_columns, bold_headers, caption, max_rows, max_columns, encoding, doctype_html, exclude_styles, **kwargs)\u001b[0m\n\u001b[0;32m   1177\u001b[0m \u001b[1;33m\u001b[0m\u001b[0m\n\u001b[0;32m   1178\u001b[0m         \u001b[1;31m# Build HTML string..\u001b[0m\u001b[1;33m\u001b[0m\u001b[1;33m\u001b[0m\u001b[0m\n\u001b[1;32m-> 1179\u001b[1;33m         html = obj._render_html(\n\u001b[0m\u001b[0;32m   1180\u001b[0m             \u001b[0msparse_index\u001b[0m\u001b[1;33m=\u001b[0m\u001b[0msparse_index\u001b[0m\u001b[1;33m,\u001b[0m\u001b[1;33m\u001b[0m\u001b[1;33m\u001b[0m\u001b[0m\n\u001b[0;32m   1181\u001b[0m             \u001b[0msparse_columns\u001b[0m\u001b[1;33m=\u001b[0m\u001b[0msparse_columns\u001b[0m\u001b[1;33m,\u001b[0m\u001b[1;33m\u001b[0m\u001b[1;33m\u001b[0m\u001b[0m\n",
      "\u001b[1;32m~\\anaconda3\\lib\\site-packages\\pandas\\io\\formats\\style_render.py\u001b[0m in \u001b[0;36m_render_html\u001b[1;34m(self, sparse_index, sparse_columns, max_rows, max_cols, **kwargs)\u001b[0m\n\u001b[0;32m    160\u001b[0m         \u001b[0mGenerates\u001b[0m \u001b[0ma\u001b[0m \u001b[0mdict\u001b[0m \u001b[1;32mwith\u001b[0m \u001b[0mnecessary\u001b[0m \u001b[0mkwargs\u001b[0m \u001b[0mpassed\u001b[0m \u001b[0mto\u001b[0m \u001b[0mjinja2\u001b[0m \u001b[0mtemplate\u001b[0m\u001b[1;33m.\u001b[0m\u001b[1;33m\u001b[0m\u001b[1;33m\u001b[0m\u001b[0m\n\u001b[0;32m    161\u001b[0m         \"\"\"\n\u001b[1;32m--> 162\u001b[1;33m         \u001b[0mself\u001b[0m\u001b[1;33m.\u001b[0m\u001b[0m_compute\u001b[0m\u001b[1;33m(\u001b[0m\u001b[1;33m)\u001b[0m\u001b[1;33m\u001b[0m\u001b[1;33m\u001b[0m\u001b[0m\n\u001b[0m\u001b[0;32m    163\u001b[0m         \u001b[1;31m# TODO: namespace all the pandas keys\u001b[0m\u001b[1;33m\u001b[0m\u001b[1;33m\u001b[0m\u001b[0m\n\u001b[0;32m    164\u001b[0m         \u001b[0md\u001b[0m \u001b[1;33m=\u001b[0m \u001b[0mself\u001b[0m\u001b[1;33m.\u001b[0m\u001b[0m_translate\u001b[0m\u001b[1;33m(\u001b[0m\u001b[0msparse_index\u001b[0m\u001b[1;33m,\u001b[0m \u001b[0msparse_columns\u001b[0m\u001b[1;33m,\u001b[0m \u001b[0mmax_rows\u001b[0m\u001b[1;33m,\u001b[0m \u001b[0mmax_cols\u001b[0m\u001b[1;33m)\u001b[0m\u001b[1;33m\u001b[0m\u001b[1;33m\u001b[0m\u001b[0m\n",
      "\u001b[1;32m~\\anaconda3\\lib\\site-packages\\pandas\\io\\formats\\style_render.py\u001b[0m in \u001b[0;36m_compute\u001b[1;34m(self)\u001b[0m\n\u001b[0;32m    203\u001b[0m         \u001b[0mr\u001b[0m \u001b[1;33m=\u001b[0m \u001b[0mself\u001b[0m\u001b[1;33m\u001b[0m\u001b[1;33m\u001b[0m\u001b[0m\n\u001b[0;32m    204\u001b[0m         \u001b[1;32mfor\u001b[0m \u001b[0mfunc\u001b[0m\u001b[1;33m,\u001b[0m \u001b[0margs\u001b[0m\u001b[1;33m,\u001b[0m \u001b[0mkwargs\u001b[0m \u001b[1;32min\u001b[0m \u001b[0mself\u001b[0m\u001b[1;33m.\u001b[0m\u001b[0m_todo\u001b[0m\u001b[1;33m:\u001b[0m\u001b[1;33m\u001b[0m\u001b[1;33m\u001b[0m\u001b[0m\n\u001b[1;32m--> 205\u001b[1;33m             \u001b[0mr\u001b[0m \u001b[1;33m=\u001b[0m \u001b[0mfunc\u001b[0m\u001b[1;33m(\u001b[0m\u001b[0mself\u001b[0m\u001b[1;33m)\u001b[0m\u001b[1;33m(\u001b[0m\u001b[1;33m*\u001b[0m\u001b[0margs\u001b[0m\u001b[1;33m,\u001b[0m \u001b[1;33m**\u001b[0m\u001b[0mkwargs\u001b[0m\u001b[1;33m)\u001b[0m\u001b[1;33m\u001b[0m\u001b[1;33m\u001b[0m\u001b[0m\n\u001b[0m\u001b[0;32m    206\u001b[0m         \u001b[1;32mreturn\u001b[0m \u001b[0mr\u001b[0m\u001b[1;33m\u001b[0m\u001b[1;33m\u001b[0m\u001b[0m\n\u001b[0;32m    207\u001b[0m \u001b[1;33m\u001b[0m\u001b[0m\n",
      "\u001b[1;32m~\\anaconda3\\lib\\site-packages\\pandas\\io\\formats\\style.py\u001b[0m in \u001b[0;36m_apply\u001b[1;34m(self, func, axis, subset, **kwargs)\u001b[0m\n\u001b[0;32m   1440\u001b[0m             \u001b[0maxis\u001b[0m \u001b[1;33m=\u001b[0m \u001b[0mself\u001b[0m\u001b[1;33m.\u001b[0m\u001b[0mdata\u001b[0m\u001b[1;33m.\u001b[0m\u001b[0m_get_axis_number\u001b[0m\u001b[1;33m(\u001b[0m\u001b[0maxis\u001b[0m\u001b[1;33m)\u001b[0m\u001b[1;33m\u001b[0m\u001b[1;33m\u001b[0m\u001b[0m\n\u001b[0;32m   1441\u001b[0m             \u001b[1;32mif\u001b[0m \u001b[0maxis\u001b[0m \u001b[1;33m==\u001b[0m \u001b[1;36m0\u001b[0m\u001b[1;33m:\u001b[0m\u001b[1;33m\u001b[0m\u001b[1;33m\u001b[0m\u001b[0m\n\u001b[1;32m-> 1442\u001b[1;33m                 \u001b[0mresult\u001b[0m \u001b[1;33m=\u001b[0m \u001b[0mdata\u001b[0m\u001b[1;33m.\u001b[0m\u001b[0mapply\u001b[0m\u001b[1;33m(\u001b[0m\u001b[0mfunc\u001b[0m\u001b[1;33m,\u001b[0m \u001b[0maxis\u001b[0m\u001b[1;33m=\u001b[0m\u001b[1;36m0\u001b[0m\u001b[1;33m,\u001b[0m \u001b[1;33m**\u001b[0m\u001b[0mkwargs\u001b[0m\u001b[1;33m)\u001b[0m\u001b[1;33m\u001b[0m\u001b[1;33m\u001b[0m\u001b[0m\n\u001b[0m\u001b[0;32m   1443\u001b[0m             \u001b[1;32melse\u001b[0m\u001b[1;33m:\u001b[0m\u001b[1;33m\u001b[0m\u001b[1;33m\u001b[0m\u001b[0m\n\u001b[0;32m   1444\u001b[0m                 \u001b[0mresult\u001b[0m \u001b[1;33m=\u001b[0m \u001b[0mdata\u001b[0m\u001b[1;33m.\u001b[0m\u001b[0mT\u001b[0m\u001b[1;33m.\u001b[0m\u001b[0mapply\u001b[0m\u001b[1;33m(\u001b[0m\u001b[0mfunc\u001b[0m\u001b[1;33m,\u001b[0m \u001b[0maxis\u001b[0m\u001b[1;33m=\u001b[0m\u001b[1;36m0\u001b[0m\u001b[1;33m,\u001b[0m \u001b[1;33m**\u001b[0m\u001b[0mkwargs\u001b[0m\u001b[1;33m)\u001b[0m\u001b[1;33m.\u001b[0m\u001b[0mT\u001b[0m  \u001b[1;31m# see GH 42005\u001b[0m\u001b[1;33m\u001b[0m\u001b[1;33m\u001b[0m\u001b[0m\n",
      "\u001b[1;32m~\\anaconda3\\lib\\site-packages\\pandas\\core\\frame.py\u001b[0m in \u001b[0;36mapply\u001b[1;34m(self, func, axis, raw, result_type, args, **kwargs)\u001b[0m\n\u001b[0;32m   8846\u001b[0m             \u001b[0mkwargs\u001b[0m\u001b[1;33m=\u001b[0m\u001b[0mkwargs\u001b[0m\u001b[1;33m,\u001b[0m\u001b[1;33m\u001b[0m\u001b[1;33m\u001b[0m\u001b[0m\n\u001b[0;32m   8847\u001b[0m         )\n\u001b[1;32m-> 8848\u001b[1;33m         \u001b[1;32mreturn\u001b[0m \u001b[0mop\u001b[0m\u001b[1;33m.\u001b[0m\u001b[0mapply\u001b[0m\u001b[1;33m(\u001b[0m\u001b[1;33m)\u001b[0m\u001b[1;33m.\u001b[0m\u001b[0m__finalize__\u001b[0m\u001b[1;33m(\u001b[0m\u001b[0mself\u001b[0m\u001b[1;33m,\u001b[0m \u001b[0mmethod\u001b[0m\u001b[1;33m=\u001b[0m\u001b[1;34m\"apply\"\u001b[0m\u001b[1;33m)\u001b[0m\u001b[1;33m\u001b[0m\u001b[1;33m\u001b[0m\u001b[0m\n\u001b[0m\u001b[0;32m   8849\u001b[0m \u001b[1;33m\u001b[0m\u001b[0m\n\u001b[0;32m   8850\u001b[0m     def applymap(\n",
      "\u001b[1;32m~\\anaconda3\\lib\\site-packages\\pandas\\core\\apply.py\u001b[0m in \u001b[0;36mapply\u001b[1;34m(self)\u001b[0m\n\u001b[0;32m    725\u001b[0m         \u001b[1;31m# one axis empty\u001b[0m\u001b[1;33m\u001b[0m\u001b[1;33m\u001b[0m\u001b[0m\n\u001b[0;32m    726\u001b[0m         \u001b[1;32melif\u001b[0m \u001b[1;32mnot\u001b[0m \u001b[0mall\u001b[0m\u001b[1;33m(\u001b[0m\u001b[0mself\u001b[0m\u001b[1;33m.\u001b[0m\u001b[0mobj\u001b[0m\u001b[1;33m.\u001b[0m\u001b[0mshape\u001b[0m\u001b[1;33m)\u001b[0m\u001b[1;33m:\u001b[0m\u001b[1;33m\u001b[0m\u001b[1;33m\u001b[0m\u001b[0m\n\u001b[1;32m--> 727\u001b[1;33m             \u001b[1;32mreturn\u001b[0m \u001b[0mself\u001b[0m\u001b[1;33m.\u001b[0m\u001b[0mapply_empty_result\u001b[0m\u001b[1;33m(\u001b[0m\u001b[1;33m)\u001b[0m\u001b[1;33m\u001b[0m\u001b[1;33m\u001b[0m\u001b[0m\n\u001b[0m\u001b[0;32m    728\u001b[0m \u001b[1;33m\u001b[0m\u001b[0m\n\u001b[0;32m    729\u001b[0m         \u001b[1;31m# raw\u001b[0m\u001b[1;33m\u001b[0m\u001b[1;33m\u001b[0m\u001b[0m\n",
      "\u001b[1;32m~\\anaconda3\\lib\\site-packages\\pandas\\core\\apply.py\u001b[0m in \u001b[0;36mapply_empty_result\u001b[1;34m(self)\u001b[0m\n\u001b[0;32m    795\u001b[0m                 \u001b[0mr\u001b[0m \u001b[1;33m=\u001b[0m \u001b[0mnp\u001b[0m\u001b[1;33m.\u001b[0m\u001b[0mnan\u001b[0m\u001b[1;33m\u001b[0m\u001b[1;33m\u001b[0m\u001b[0m\n\u001b[0;32m    796\u001b[0m \u001b[1;33m\u001b[0m\u001b[0m\n\u001b[1;32m--> 797\u001b[1;33m             \u001b[1;32mreturn\u001b[0m \u001b[0mself\u001b[0m\u001b[1;33m.\u001b[0m\u001b[0mobj\u001b[0m\u001b[1;33m.\u001b[0m\u001b[0m_constructor_sliced\u001b[0m\u001b[1;33m(\u001b[0m\u001b[0mr\u001b[0m\u001b[1;33m,\u001b[0m \u001b[0mindex\u001b[0m\u001b[1;33m=\u001b[0m\u001b[0mself\u001b[0m\u001b[1;33m.\u001b[0m\u001b[0magg_axis\u001b[0m\u001b[1;33m)\u001b[0m\u001b[1;33m\u001b[0m\u001b[1;33m\u001b[0m\u001b[0m\n\u001b[0m\u001b[0;32m    798\u001b[0m         \u001b[1;32melse\u001b[0m\u001b[1;33m:\u001b[0m\u001b[1;33m\u001b[0m\u001b[1;33m\u001b[0m\u001b[0m\n\u001b[0;32m    799\u001b[0m             \u001b[1;32mreturn\u001b[0m \u001b[0mself\u001b[0m\u001b[1;33m.\u001b[0m\u001b[0mobj\u001b[0m\u001b[1;33m.\u001b[0m\u001b[0mcopy\u001b[0m\u001b[1;33m(\u001b[0m\u001b[1;33m)\u001b[0m\u001b[1;33m\u001b[0m\u001b[1;33m\u001b[0m\u001b[0m\n",
      "\u001b[1;32m~\\anaconda3\\lib\\site-packages\\pandas\\core\\series.py\u001b[0m in \u001b[0;36m__init__\u001b[1;34m(self, data, index, dtype, name, copy, fastpath)\u001b[0m\n\u001b[0;32m    440\u001b[0m                 \u001b[0mindex\u001b[0m \u001b[1;33m=\u001b[0m \u001b[0mdefault_index\u001b[0m\u001b[1;33m(\u001b[0m\u001b[0mlen\u001b[0m\u001b[1;33m(\u001b[0m\u001b[0mdata\u001b[0m\u001b[1;33m)\u001b[0m\u001b[1;33m)\u001b[0m\u001b[1;33m\u001b[0m\u001b[1;33m\u001b[0m\u001b[0m\n\u001b[0;32m    441\u001b[0m             \u001b[1;32melif\u001b[0m \u001b[0mis_list_like\u001b[0m\u001b[1;33m(\u001b[0m\u001b[0mdata\u001b[0m\u001b[1;33m)\u001b[0m\u001b[1;33m:\u001b[0m\u001b[1;33m\u001b[0m\u001b[1;33m\u001b[0m\u001b[0m\n\u001b[1;32m--> 442\u001b[1;33m                 \u001b[0mcom\u001b[0m\u001b[1;33m.\u001b[0m\u001b[0mrequire_length_match\u001b[0m\u001b[1;33m(\u001b[0m\u001b[0mdata\u001b[0m\u001b[1;33m,\u001b[0m \u001b[0mindex\u001b[0m\u001b[1;33m)\u001b[0m\u001b[1;33m\u001b[0m\u001b[1;33m\u001b[0m\u001b[0m\n\u001b[0m\u001b[0;32m    443\u001b[0m \u001b[1;33m\u001b[0m\u001b[0m\n\u001b[0;32m    444\u001b[0m             \u001b[1;31m# create/copy the manager\u001b[0m\u001b[1;33m\u001b[0m\u001b[1;33m\u001b[0m\u001b[0m\n",
      "\u001b[1;32m~\\anaconda3\\lib\\site-packages\\pandas\\core\\common.py\u001b[0m in \u001b[0;36mrequire_length_match\u001b[1;34m(data, index)\u001b[0m\n\u001b[0;32m    555\u001b[0m     \"\"\"\n\u001b[0;32m    556\u001b[0m     \u001b[1;32mif\u001b[0m \u001b[0mlen\u001b[0m\u001b[1;33m(\u001b[0m\u001b[0mdata\u001b[0m\u001b[1;33m)\u001b[0m \u001b[1;33m!=\u001b[0m \u001b[0mlen\u001b[0m\u001b[1;33m(\u001b[0m\u001b[0mindex\u001b[0m\u001b[1;33m)\u001b[0m\u001b[1;33m:\u001b[0m\u001b[1;33m\u001b[0m\u001b[1;33m\u001b[0m\u001b[0m\n\u001b[1;32m--> 557\u001b[1;33m         raise ValueError(\n\u001b[0m\u001b[0;32m    558\u001b[0m             \u001b[1;34m\"Length of values \"\u001b[0m\u001b[1;33m\u001b[0m\u001b[1;33m\u001b[0m\u001b[0m\n\u001b[0;32m    559\u001b[0m             \u001b[1;34mf\"({len(data)}) \"\u001b[0m\u001b[1;33m\u001b[0m\u001b[1;33m\u001b[0m\u001b[0m\n",
      "\u001b[1;31mValueError\u001b[0m: Length of values (0) does not match length of index (4)"
     ]
    },
    {
     "data": {
      "text/plain": [
       "<pandas.io.formats.style.Styler at 0x24c0228b0d0>"
      ]
     },
     "execution_count": 291,
     "metadata": {},
     "output_type": "execute_result"
    }
   ],
   "source": [
    "score_card.style.highlight_max(color=\"lightblue\",\n",
    "                               \n",
    "                              subset=[\"AUC Score\",\"Accuracy Score\",\n",
    "                                      \n",
    "                                     \"Kappa Score\",\"f1-Score\"])"
   ]
  },
  {
   "cell_type": "code",
   "execution_count": 292,
   "id": "52ea29fc",
   "metadata": {},
   "outputs": [],
   "source": [
    "youdenn_tables=pd.DataFrame({\"TPR\":TPR,\n",
    "                            \"FPR\":FPR,\n",
    "                            \"threshold\":threshold})"
   ]
  },
  {
   "cell_type": "code",
   "execution_count": 293,
   "id": "4dfabe16",
   "metadata": {},
   "outputs": [],
   "source": [
    "youdenn_tables[\"Difference\"]=youdenn_tables.TPR - youdenn_tables.FPR"
   ]
  },
  {
   "cell_type": "code",
   "execution_count": 294,
   "id": "ded548fe",
   "metadata": {},
   "outputs": [],
   "source": [
    "youdenn_tables=youdenn_tables.sort_values(\"Difference\",ascending=False).reset_index(drop=True)"
   ]
  },
  {
   "cell_type": "code",
   "execution_count": 297,
   "id": "56106a27",
   "metadata": {},
   "outputs": [
    {
     "data": {
      "text/html": [
       "<div>\n",
       "<style scoped>\n",
       "    .dataframe tbody tr th:only-of-type {\n",
       "        vertical-align: middle;\n",
       "    }\n",
       "\n",
       "    .dataframe tbody tr th {\n",
       "        vertical-align: top;\n",
       "    }\n",
       "\n",
       "    .dataframe thead th {\n",
       "        text-align: right;\n",
       "    }\n",
       "</style>\n",
       "<table border=\"1\" class=\"dataframe\">\n",
       "  <thead>\n",
       "    <tr style=\"text-align: right;\">\n",
       "      <th></th>\n",
       "      <th>TPR</th>\n",
       "      <th>FPR</th>\n",
       "      <th>threshold</th>\n",
       "      <th>Difference</th>\n",
       "    </tr>\n",
       "  </thead>\n",
       "  <tbody>\n",
       "    <tr>\n",
       "      <th>0</th>\n",
       "      <td>0.984293</td>\n",
       "      <td>0.010508</td>\n",
       "      <td>1</td>\n",
       "      <td>0.973785</td>\n",
       "    </tr>\n",
       "    <tr>\n",
       "      <th>1</th>\n",
       "      <td>0.000000</td>\n",
       "      <td>0.000000</td>\n",
       "      <td>2</td>\n",
       "      <td>0.000000</td>\n",
       "    </tr>\n",
       "    <tr>\n",
       "      <th>2</th>\n",
       "      <td>1.000000</td>\n",
       "      <td>1.000000</td>\n",
       "      <td>0</td>\n",
       "      <td>0.000000</td>\n",
       "    </tr>\n",
       "  </tbody>\n",
       "</table>\n",
       "</div>"
      ],
      "text/plain": [
       "       TPR      FPR  threshold  Difference\n",
       "0 0.984293 0.010508          1    0.973785\n",
       "1 0.000000 0.000000          2    0.000000\n",
       "2 1.000000 1.000000          0    0.000000"
      ]
     },
     "execution_count": 297,
     "metadata": {},
     "output_type": "execute_result"
    }
   ],
   "source": [
    "youdenn_tables"
   ]
  },
  {
   "cell_type": "code",
   "execution_count": null,
   "id": "c9edce75",
   "metadata": {},
   "outputs": [],
   "source": []
  },
  {
   "cell_type": "code",
   "execution_count": 222,
   "id": "80b93097",
   "metadata": {},
   "outputs": [
    {
     "data": {
      "text/plain": [
       "<AxesSubplot:>"
      ]
     },
     "execution_count": 222,
     "metadata": {},
     "output_type": "execute_result"
    },
    {
     "data": {
      "image/png": "[encoded data removed]",
      "text/plain": [
       "<Figure size 500x300 with 2 Axes>"
      ]
     },
     "metadata": {},
     "output_type": "display_data"
    }
   ],
   "source": [
    "plt.rcParams[\"figure.figsize\"]=[5,3]\n",
    "sns.heatmap(confusion_matrix(ytest,pred),annot=True,cmap=\"YlGnBu\")"
   ]
  },
  {
   "cell_type": "code",
   "execution_count": null,
   "id": "92dcfd69",
   "metadata": {},
   "outputs": [],
   "source": []
  },
  {
   "cell_type": "code",
   "execution_count": 56,
   "id": "6a37d973",
   "metadata": {},
   "outputs": [],
   "source": [
    "features=pd.Series(modelrfc.feature_importances_,index=xtrain.columns).sort_values(ascending=False)"
   ]
  },
  {
   "cell_type": "code",
   "execution_count": 57,
   "id": "1ef9257f",
   "metadata": {},
   "outputs": [
    {
     "data": {
      "text/plain": [
       "<AxesSubplot:>"
      ]
     },
     "execution_count": 57,
     "metadata": {},
     "output_type": "execute_result"
    },
    {
     "data": {
      "image/png": "[encoded data removed]",
      "text/plain": [
       "<Figure size 640x480 with 1 Axes>"
      ]
     },
     "metadata": {},
     "output_type": "display_data"
    }
   ],
   "source": [
    "features.plot(kind=\"barh\")"
   ]
  },
  {
   "cell_type": "code",
   "execution_count": 58,
   "id": "bca73882",
   "metadata": {},
   "outputs": [
    {
     "data": {
      "text/plain": [
       "Index(['STATUS', 'DAYS_EMPLOYED', 'DAYS_BIRTH', 'AMT_INCOME_TOTAL',\n",
       "       'CODE_GENDER', 'JOB', 'CNT_CHILDREN', 'NAME_FAMILY_STATUS',\n",
       "       'BEGIN_MONTHS', 'FLAG_PHONE', 'NAME_EDUCATION_TYPE',\n",
       "       'NAME_HOUSING_TYPE', 'FLAG_EMAIL'],\n",
       "      dtype='object')"
      ]
     },
     "execution_count": 58,
     "metadata": {},
     "output_type": "execute_result"
    }
   ],
   "source": [
    "features.index"
   ]
  },
  {
   "cell_type": "code",
   "execution_count": 224,
   "id": "c83f232b",
   "metadata": {},
   "outputs": [],
   "source": [
    "#we are taking only features that make strong impact to the target \n",
    "importantfaetures=X.drop([\"FLAG_EMAIL\",\"NAME_HOUSING_TYPE\",\"FLAG_PHONE\",\"NAME_EDUCATION_TYPE\"],axis=1)"
   ]
  },
  {
   "cell_type": "code",
   "execution_count": 225,
   "id": "acb540f9",
   "metadata": {},
   "outputs": [],
   "source": [
    "xtrain,xtest,ytrain,ytest=train_test_split(importantfaetures,y,test_size=0.30,random_state=1)"
   ]
  },
  {
   "cell_type": "code",
   "execution_count": 299,
   "id": "21b4ee1c",
   "metadata": {},
   "outputs": [],
   "source": [
    "from imblearn.over_sampling import RandomOverSampler\n",
    "os=RandomOverSampler()\n",
    "bxtrain,bytrain=os.fit_resample(xtrain,ytrain)"
   ]
  },
  {
   "cell_type": "code",
   "execution_count": 300,
   "id": "8c721316",
   "metadata": {},
   "outputs": [],
   "source": []
  },
  {
   "cell_type": "code",
   "execution_count": 301,
   "id": "e465d0a3",
   "metadata": {},
   "outputs": [
    {
     "data": {
      "text/plain": [
       "0    374977\n",
       "1    374977\n",
       "Name: TARGET, dtype: int64"
      ]
     },
     "execution_count": 301,
     "metadata": {},
     "output_type": "execute_result"
    }
   ],
   "source": [
    "bytrain.value_counts()"
   ]
  },
  {
   "cell_type": "code",
   "execution_count": 302,
   "id": "8d159968",
   "metadata": {},
   "outputs": [
    {
     "name": "stdout",
     "output_type": "stream",
     "text": [
      "********************Randomoversampler 100% on Random Forest Classifier\n",
      "recall score: 0.9860383944153578\n",
      "precision score: 0.2488986784140969\n",
      "f1 score: 0.39746746394653537\n",
      "[[159023   1705]\n",
      " [     8    565]]\n",
      "kappa score 0.3940299241591889\n",
      "              precision    recall  f1-score   support\n",
      "\n",
      "           0       1.00      0.99      0.99    160728\n",
      "           1       0.25      0.99      0.40       573\n",
      "\n",
      "    accuracy                           0.99    161301\n",
      "   macro avg       0.62      0.99      0.70    161301\n",
      "weighted avg       1.00      0.99      0.99    161301\n",
      "\n",
      "model accuracy 0.9949223552377879\n"
     ]
    }
   ],
   "source": [
    "#using randomoversampler resulting in better recall so we are using it.\n",
    "print(\"********************Randomoversampler 100% on Random Forest Classifier\")\n",
    "rfc=RandomForestClassifier(n_estimators=400,max_depth=10,random_state=1)\n",
    "modelrfc=rfc.fit(bxtrain,bytrain)\n",
    "pred=modelrfc.predict(xtest)\n",
    "print(\"recall score:\",recall_score(ytest,pred))\n",
    "print(\"precision score:\",precision_score(ytest,pred))\n",
    "print(\"f1 score:\",f1_score(ytest,pred))\n",
    "print(confusion_matrix(ytest,pred))\n",
    "print(\"kappa score\",cohen_kappa_score(ytest,pred))\n",
    "print(classification_report(ytest,pred))\n",
    "print(\"model accuracy\",modelrfc.score(bxtrain,bytrain))"
   ]
  },
  {
   "cell_type": "code",
   "execution_count": 303,
   "id": "f52f2bd4",
   "metadata": {},
   "outputs": [],
   "source": [
    "from sklearn.model_selection import RandomizedSearchCV"
   ]
  },
  {
   "cell_type": "code",
   "execution_count": 304,
   "id": "d2c9f955",
   "metadata": {},
   "outputs": [
    {
     "name": "stdout",
     "output_type": "stream",
     "text": [
      "{'n_estimators': [100, 200, 300, 400], 'max_features': [10, 11, 12, 14, 15], 'max_depth': [3, 5, 7, 10, 15], 'min_samples_split': [2, 5, 10, 15, 20], 'min_samples_leaf': [1, 2, 5, 10]}\n"
     ]
    }
   ],
   "source": [
    "#creating grid\n",
    "n_estimators=[100,200,300,400]\n",
    "max_features=[10,11,12,14,15]\n",
    "min_samples_split=[2,5,10,15,20]\n",
    "min_samples_leaf=[1,2,5,10]\n",
    "max_depth=[3,5,7,10,15]\n",
    "random_grid={\"n_estimators\":n_estimators,\n",
    "            \"max_features\":max_features,\n",
    "            \"max_depth\":max_depth,\n",
    "            \"min_samples_split\":min_samples_split,\n",
    "            \"min_samples_leaf\":min_samples_leaf}\n",
    "print(random_grid)"
   ]
  },
  {
   "cell_type": "code",
   "execution_count": 305,
   "id": "7594b120",
   "metadata": {},
   "outputs": [],
   "source": [
    "xgb=XGBClassifier()"
   ]
  },
  {
   "cell_type": "code",
   "execution_count": 306,
   "id": "a988f201",
   "metadata": {},
   "outputs": [],
   "source": [
    "rf_random=RandomizedSearchCV(estimator=xgb,param_distributions=random_grid,scoring=\"f1\",n_iter=5,cv=3,random_state=10,n_jobs=-1)"
   ]
  },
  {
   "cell_type": "code",
   "execution_count": 307,
   "id": "eadca29c",
   "metadata": {},
   "outputs": [
    {
     "name": "stdout",
     "output_type": "stream",
     "text": [
      "[17:57:14] WARNING: C:/buildkite-agent/builds/buildkite-windows-cpu-autoscaling-group-i-030221e36e1a46bfb-1/xgboost/xgboost-ci-windows/src/learner.cc:767: \n",
      "Parameters: { \"max_features\", \"min_samples_leaf\", \"min_samples_split\" } are not used.\n",
      "\n"
     ]
    },
    {
     "data": {
      "text/plain": [
       "RandomizedSearchCV(cv=3,\n",
       "                   estimator=XGBClassifier(base_score=None, booster=None,\n",
       "                                           callbacks=None,\n",
       "                                           colsample_bylevel=None,\n",
       "                                           colsample_bynode=None,\n",
       "                                           colsample_bytree=None,\n",
       "                                           early_stopping_rounds=None,\n",
       "                                           enable_categorical=False,\n",
       "                                           eval_metric=None, feature_types=None,\n",
       "                                           gamma=None, gpu_id=None,\n",
       "                                           grow_policy=None,\n",
       "                                           importance_type=None,\n",
       "                                           interaction_constraints=None,\n",
       "                                           learning_rate...\n",
       "                                           min_child_weight=None, missing=nan,\n",
       "                                           monotone_constraints=None,\n",
       "                                           n_estimators=100, n_jobs=None,\n",
       "                                           num_parallel_tree=None,\n",
       "                                           predictor=None, random_state=None, ...),\n",
       "                   n_iter=5, n_jobs=-1,\n",
       "                   param_distributions={'max_depth': [3, 5, 7, 10, 15],\n",
       "                                        'max_features': [10, 11, 12, 14, 15],\n",
       "                                        'min_samples_leaf': [1, 2, 5, 10],\n",
       "                                        'min_samples_split': [2, 5, 10, 15, 20],\n",
       "                                        'n_estimators': [100, 200, 300, 400]},\n",
       "                   random_state=10, scoring='f1')"
      ]
     },
     "execution_count": 307,
     "metadata": {},
     "output_type": "execute_result"
    }
   ],
   "source": [
    "rf_random.fit(bxtrain,bytrain)"
   ]
  },
  {
   "cell_type": "code",
   "execution_count": 308,
   "id": "ad38a127",
   "metadata": {},
   "outputs": [
    {
     "data": {
      "text/plain": [
       "{'n_estimators': 200,\n",
       " 'min_samples_split': 10,\n",
       " 'min_samples_leaf': 1,\n",
       " 'max_features': 11,\n",
       " 'max_depth': 10}"
      ]
     },
     "execution_count": 308,
     "metadata": {},
     "output_type": "execute_result"
    }
   ],
   "source": [
    "rf_random.best_params_"
   ]
  },
  {
   "cell_type": "code",
   "execution_count": 309,
   "id": "e1944728",
   "metadata": {},
   "outputs": [],
   "source": [
    "pred=rf_random.predict(xtest)"
   ]
  },
  {
   "cell_type": "code",
   "execution_count": 310,
   "id": "add2e584",
   "metadata": {},
   "outputs": [
    {
     "name": "stdout",
     "output_type": "stream",
     "text": [
      "********************Hyperparametertuning on XGBOOST*************************\n",
      "recall score: 0.8656195462478184\n",
      "precision score: 0.6946778711484594\n",
      "f1 score: 0.7707847707847707\n",
      "[[160510    218]\n",
      " [    77    496]]\n",
      "kappa score 0.7698777319780068\n",
      "              precision    recall  f1-score   support\n",
      "\n",
      "           0       1.00      1.00      1.00    160728\n",
      "           1       0.69      0.87      0.77       573\n",
      "\n",
      "    accuracy                           1.00    161301\n",
      "   macro avg       0.85      0.93      0.88    161301\n",
      "weighted avg       1.00      1.00      1.00    161301\n",
      "\n",
      "model accuracy 0.9981711210717851\n"
     ]
    }
   ],
   "source": [
    "print(\"********************Hyperparametertuning on XGBOOST*************************\")\n",
    "print(\"recall score:\",recall_score(ytest,pred))\n",
    "print(\"precision score:\",precision_score(ytest,pred))\n",
    "print(\"f1 score:\",f1_score(ytest,pred))\n",
    "print(confusion_matrix(ytest,pred))\n",
    "print(\"kappa score\",cohen_kappa_score(ytest,pred))\n",
    "print(classification_report(ytest,pred))\n",
    "print(\"model accuracy\",accuracy_score(ytest,pred))"
   ]
  },
  {
   "cell_type": "code",
   "execution_count": 311,
   "id": "863efa03",
   "metadata": {},
   "outputs": [
    {
     "data": {
      "text/plain": [
       "0.9991353661448094"
      ]
     },
     "execution_count": 311,
     "metadata": {},
     "output_type": "execute_result"
    }
   ],
   "source": [
    "rf_random.best_score_"
   ]
  },
  {
   "cell_type": "markdown",
   "id": "0273f3ea",
   "metadata": {},
   "source": [
    "#### taking time\n",
    "from sklearn.model_selection import GridSearchCV, StratifiedKFold\n",
    "param_grid={'n_estimators':range(100,200,2),\n",
    "            'max_depth':range(3,8),\n",
    "            'min_samples_split':range(2,10,2)}\n",
    "\n",
    "cv=StratifiedKFold(n_splits=5,shuffle=False)\n",
    "model=GridSearchCV(RandomForestClassifier(),param_grid,scoring=\"f1\",n_jobs=-1,cv=cv)\n",
    "model.fit(bxtrain,bytrain)\n",
    "model.best_params_\n",
    "model.best_score_\n",
    "model=model.best_estimator_\n",
    "pred=model.predict(xtest)\n",
    "print(\"recall score\",recall_score(ytest,pred))\n",
    "print(\"precision score\",precision_score(ytest,pred))\n",
    "print(confusion_matrix(ytest,pred))\n",
    "print(\"f1_score\",f1_score(ytest,pred))"
   ]
  },
  {
   "cell_type": "code",
   "execution_count": 88,
   "id": "15bd13a4",
   "metadata": {},
   "outputs": [],
   "source": [
    "from sklearn.neighbors import KNeighborsClassifier\n",
    "from sklearn.tree import DecisionTreeClassifier\n",
    "from sklearn.ensemble import RandomForestClassifier,GradientBoostingClassifier,AdaBoostClassifier\n",
    "from sklearn.linear_model import LogisticRegression"
   ]
  },
  {
   "cell_type": "code",
   "execution_count": 89,
   "id": "c71d9ec6",
   "metadata": {},
   "outputs": [],
   "source": [
    "from sklearn.naive_bayes import GaussianNB"
   ]
  },
  {
   "cell_type": "code",
   "execution_count": 90,
   "id": "ecc802f1",
   "metadata": {},
   "outputs": [],
   "source": [
    "#checking for best mdoel evaluation\n",
    "def models_eval():\n",
    "    models,names=[],[]\n",
    "    models.append(LogisticRegression())\n",
    "    names.append(\"lr\")\n",
    "    \n",
    "    models.append(GaussianNB())\n",
    "    names.append(\"nvb\")\n",
    "    \n",
    "    models.append(KNeighborsClassifier())\n",
    "    names.append(\"knn\")\n",
    "    \n",
    "    models.append(DecisionTreeClassifier())\n",
    "    names.append(\"dtree\")\n",
    "    \n",
    "    models.append(RandomForestClassifier())\n",
    "    names.append(\"rfc\")\n",
    "    \n",
    "    models.append(AdaBoostClassifier())\n",
    "    names.append(\"ada\")\n",
    "    \n",
    "    models.append(GradientBoostingClassifier())\n",
    "    names.append(\"gbc\")\n",
    "    \n",
    "    models.append(XGBClassifier())\n",
    "    names.append(\"xgb\")\n",
    "    \n",
    "    return models,names"
   ]
  },
  {
   "cell_type": "code",
   "execution_count": 91,
   "id": "f674d470",
   "metadata": {},
   "outputs": [],
   "source": [
    "from sklearn.model_selection import RepeatedStratifiedKFold\n",
    "\n",
    "from sklearn.model_selection import StratifiedKFold"
   ]
  },
  {
   "cell_type": "code",
   "execution_count": 92,
   "id": "1f0071fc",
   "metadata": {},
   "outputs": [],
   "source": [
    "from sklearn.model_selection import cross_val_score"
   ]
  },
  {
   "cell_type": "code",
   "execution_count": 93,
   "id": "0c9ca43f",
   "metadata": {},
   "outputs": [],
   "source": [
    "def evaluation(X,y):\n",
    "    models,names=models_eval()\n",
    "    results=[]\n",
    "    \n",
    "    for i in range(len(models)):\n",
    "        cv=RepeatedStratifiedKFold(n_splits=5,n_repeats=5,random_state=10)\n",
    "        scores=cross_val_score(models[i],X,y,scoring=\"f1\",cv=cv)\n",
    "        results.append(scores)\n",
    "    \n",
    "    plt.boxplot(results,labels=names,showmeans=True)"
   ]
  },
  {
   "cell_type": "code",
   "execution_count": 94,
   "id": "2331288d",
   "metadata": {},
   "outputs": [
    {
     "data": {
      "image/png": "[encoded data removed]",
      "text/plain": [
       "<Figure size 640x480 with 1 Axes>"
      ]
     },
     "metadata": {},
     "output_type": "display_data"
    }
   ],
   "source": [
    "evaluation(bxtrain,bytrain)"
   ]
  },
  {
   "cell_type": "code",
   "execution_count": 101,
   "id": "4a59a523",
   "metadata": {},
   "outputs": [
    {
     "data": {
      "text/plain": [
       "Index(['AMT_INCOME_TOTAL', 'DAYS_BIRTH', 'DAYS_EMPLOYED', 'BEGIN_MONTHS',\n",
       "       'CODE_GENDER', 'CNT_CHILDREN', 'NAME_FAMILY_STATUS', 'JOB', 'STATUS'],\n",
       "      dtype='object')"
      ]
     },
     "execution_count": 101,
     "metadata": {},
     "output_type": "execute_result"
    }
   ],
   "source": [
    "bxtrain.columns"
   ]
  },
  {
   "cell_type": "code",
   "execution_count": 102,
   "id": "cbe19da4",
   "metadata": {},
   "outputs": [
    {
     "name": "stdout",
     "output_type": "stream",
     "text": [
      "{'n_estimators': [100, 200, 300, 400, 500], 'max_features': [1, 2, 3, 4, 5, 6, 7, 8, 9], 'max_depth': [3, 5, 7, 10, 15, 20, 25, 30], 'min_samples_split': [2, 5, 10, 15, 20], 'min_samples_leaf': [1, 2, 5, 10, 15, 20]}\n"
     ]
    }
   ],
   "source": [
    "# final model\n",
    "#using random forest classifier hyperparamter tuning\n",
    "n_estimators=[100,200,300,400,500]\n",
    "max_features=[1,2,3,4,5,6,7,8,9]\n",
    "min_samples_split=[2,5,10,15,20]\n",
    "min_samples_leaf=[1,2,5,10,15,20]\n",
    "max_depth=[3,5,7,10,15,20,25,30]\n",
    "random_grid={\"n_estimators\":n_estimators,\n",
    "            \"max_features\":max_features,\n",
    "            \"max_depth\":max_depth,\n",
    "            \"min_samples_split\":min_samples_split,\n",
    "            \"min_samples_leaf\":min_samples_leaf}\n",
    "print(random_grid)"
   ]
  },
  {
   "cell_type": "code",
   "execution_count": 103,
   "id": "f708963b",
   "metadata": {},
   "outputs": [],
   "source": [
    "rfc=RandomForestClassifier()\n",
    "rf_random=RandomizedSearchCV(estimator=rfc,param_distributions=random_grid,scoring=\"f1\",n_iter=5,cv=3,random_state=10)\n",
    "rf_random.fit(bxtrain,bytrain)"
   ]
  },
  {
   "cell_type": "code",
   "execution_count": null,
   "id": "27afac69",
   "metadata": {},
   "outputs": [],
   "source": []
  },
  {
   "cell_type": "code",
   "execution_count": null,
   "id": "11b5917a",
   "metadata": {},
   "outputs": [],
   "source": []
  },
  {
   "cell_type": "code",
   "execution_count": 106,
   "id": "9c51b594",
   "metadata": {},
   "outputs": [
    {
     "data": {
      "text/plain": [
       "{'n_estimators': 300,\n",
       " 'min_samples_split': 20,\n",
       " 'min_samples_leaf': 5,\n",
       " 'max_features': 9,\n",
       " 'max_depth': 25}"
      ]
     },
     "execution_count": 106,
     "metadata": {},
     "output_type": "execute_result"
    }
   ],
   "source": [
    "print(\"best params\",rf_random.best_params_)\n",
    "print(\"accuracy\",rf_random.best_score_)"
   ]
  },
  {
   "cell_type": "code",
   "execution_count": 109,
   "id": "3598d102",
   "metadata": {},
   "outputs": [
    {
     "data": {
      "text/plain": [
       "0.9981788968152164"
      ]
     },
     "execution_count": 109,
     "metadata": {},
     "output_type": "execute_result"
    }
   ],
   "source": []
  },
  {
   "cell_type": "code",
   "execution_count": 107,
   "id": "cbd17480",
   "metadata": {},
   "outputs": [],
   "source": [
    "pred=rf_random.predict(xtest)"
   ]
  },
  {
   "cell_type": "code",
   "execution_count": 108,
   "id": "ebaf3e24",
   "metadata": {},
   "outputs": [
    {
     "name": "stdout",
     "output_type": "stream",
     "text": [
      "recall score: 0.8725099601593626\n",
      "precision score: 0.5296251511487303\n",
      "f1 score: 0.6591422121896162\n",
      "[[129518    389]\n",
      " [    64    438]]\n"
     ]
    }
   ],
   "source": [
    "print(\"recall score:\",recall_score(ytest,pred))\n",
    "print(\"precision score:\",precision_score(ytest,pred))\n",
    "print(\"f1 score:\",f1_score(ytest,pred))\n",
    "print(confusion_matrix(ytest,pred))"
   ]
  },
  {
   "cell_type": "code",
   "execution_count": 312,
   "id": "13f6cfb8",
   "metadata": {},
   "outputs": [
    {
     "name": "stdout",
     "output_type": "stream",
     "text": [
      "{'n_estimators': [100, 200, 300, 400, 500], 'max_features': [1, 2, 3, 4, 5, 6, 7, 8, 9], 'max_depth': [3, 5, 7, 10, 15, 20, 25, 30], 'min_samples_split': [2, 5, 10, 15, 20], 'min_samples_leaf': [1, 2, 5, 10, 15, 20]}\n"
     ]
    }
   ],
   "source": [
    "#passing same parameters in xgboost\n",
    "n_estimators=[100,200,300,400,500]\n",
    "max_features=[1,2,3,4,5,6,7,8,9]\n",
    "min_samples_split=[2,5,10,15,20]\n",
    "min_samples_leaf=[1,2,5,10,15,20]\n",
    "max_depth=[3,5,7,10,15,20,25,30]\n",
    "random_grid={\"n_estimators\":n_estimators,\n",
    "            \"max_features\":max_features,\n",
    "            \"max_depth\":max_depth,\n",
    "            \"min_samples_split\":min_samples_split,\n",
    "            \"min_samples_leaf\":min_samples_leaf}\n",
    "print(random_grid)"
   ]
  },
  {
   "cell_type": "code",
   "execution_count": 313,
   "id": "2ff286a7",
   "metadata": {},
   "outputs": [
    {
     "name": "stdout",
     "output_type": "stream",
     "text": [
      "[17:58:39] WARNING: C:/buildkite-agent/builds/buildkite-windows-cpu-autoscaling-group-i-030221e36e1a46bfb-1/xgboost/xgboost-ci-windows/src/learner.cc:767: \n",
      "Parameters: { \"max_features\", \"min_samples_leaf\", \"min_samples_split\" } are not used.\n",
      "\n",
      "[17:59:19] WARNING: C:/buildkite-agent/builds/buildkite-windows-cpu-autoscaling-group-i-030221e36e1a46bfb-1/xgboost/xgboost-ci-windows/src/learner.cc:767: \n",
      "Parameters: { \"max_features\", \"min_samples_leaf\", \"min_samples_split\" } are not used.\n",
      "\n",
      "[17:59:59] WARNING: C:/buildkite-agent/builds/buildkite-windows-cpu-autoscaling-group-i-030221e36e1a46bfb-1/xgboost/xgboost-ci-windows/src/learner.cc:767: \n",
      "Parameters: { \"max_features\", \"min_samples_leaf\", \"min_samples_split\" } are not used.\n",
      "\n",
      "[18:00:38] WARNING: C:/buildkite-agent/builds/buildkite-windows-cpu-autoscaling-group-i-030221e36e1a46bfb-1/xgboost/xgboost-ci-windows/src/learner.cc:767: \n",
      "Parameters: { \"max_features\", \"min_samples_leaf\", \"min_samples_split\" } are not used.\n",
      "\n",
      "[18:03:57] WARNING: C:/buildkite-agent/builds/buildkite-windows-cpu-autoscaling-group-i-030221e36e1a46bfb-1/xgboost/xgboost-ci-windows/src/learner.cc:767: \n",
      "Parameters: { \"max_features\", \"min_samples_leaf\", \"min_samples_split\" } are not used.\n",
      "\n",
      "[18:07:11] WARNING: C:/buildkite-agent/builds/buildkite-windows-cpu-autoscaling-group-i-030221e36e1a46bfb-1/xgboost/xgboost-ci-windows/src/learner.cc:767: \n",
      "Parameters: { \"max_features\", \"min_samples_leaf\", \"min_samples_split\" } are not used.\n",
      "\n",
      "[18:10:25] WARNING: C:/buildkite-agent/builds/buildkite-windows-cpu-autoscaling-group-i-030221e36e1a46bfb-1/xgboost/xgboost-ci-windows/src/learner.cc:767: \n",
      "Parameters: { \"max_features\", \"min_samples_leaf\", \"min_samples_split\" } are not used.\n",
      "\n",
      "[18:11:05] WARNING: C:/buildkite-agent/builds/buildkite-windows-cpu-autoscaling-group-i-030221e36e1a46bfb-1/xgboost/xgboost-ci-windows/src/learner.cc:767: \n",
      "Parameters: { \"max_features\", \"min_samples_leaf\", \"min_samples_split\" } are not used.\n",
      "\n",
      "[18:11:43] WARNING: C:/buildkite-agent/builds/buildkite-windows-cpu-autoscaling-group-i-030221e36e1a46bfb-1/xgboost/xgboost-ci-windows/src/learner.cc:767: \n",
      "Parameters: { \"max_features\", \"min_samples_leaf\", \"min_samples_split\" } are not used.\n",
      "\n",
      "[18:12:22] WARNING: C:/buildkite-agent/builds/buildkite-windows-cpu-autoscaling-group-i-030221e36e1a46bfb-1/xgboost/xgboost-ci-windows/src/learner.cc:767: \n",
      "Parameters: { \"max_features\", \"min_samples_leaf\", \"min_samples_split\" } are not used.\n",
      "\n",
      "[18:14:06] WARNING: C:/buildkite-agent/builds/buildkite-windows-cpu-autoscaling-group-i-030221e36e1a46bfb-1/xgboost/xgboost-ci-windows/src/learner.cc:767: \n",
      "Parameters: { \"max_features\", \"min_samples_leaf\", \"min_samples_split\" } are not used.\n",
      "\n",
      "[18:15:49] WARNING: C:/buildkite-agent/builds/buildkite-windows-cpu-autoscaling-group-i-030221e36e1a46bfb-1/xgboost/xgboost-ci-windows/src/learner.cc:767: \n",
      "Parameters: { \"max_features\", \"min_samples_leaf\", \"min_samples_split\" } are not used.\n",
      "\n",
      "[18:17:33] WARNING: C:/buildkite-agent/builds/buildkite-windows-cpu-autoscaling-group-i-030221e36e1a46bfb-1/xgboost/xgboost-ci-windows/src/learner.cc:767: \n",
      "Parameters: { \"max_features\", \"min_samples_leaf\", \"min_samples_split\" } are not used.\n",
      "\n",
      "[18:20:17] WARNING: C:/buildkite-agent/builds/buildkite-windows-cpu-autoscaling-group-i-030221e36e1a46bfb-1/xgboost/xgboost-ci-windows/src/learner.cc:767: \n",
      "Parameters: { \"max_features\", \"min_samples_leaf\", \"min_samples_split\" } are not used.\n",
      "\n",
      "[18:23:02] WARNING: C:/buildkite-agent/builds/buildkite-windows-cpu-autoscaling-group-i-030221e36e1a46bfb-1/xgboost/xgboost-ci-windows/src/learner.cc:767: \n",
      "Parameters: { \"max_features\", \"min_samples_leaf\", \"min_samples_split\" } are not used.\n",
      "\n",
      "[18:25:47] WARNING: C:/buildkite-agent/builds/buildkite-windows-cpu-autoscaling-group-i-030221e36e1a46bfb-1/xgboost/xgboost-ci-windows/src/learner.cc:767: \n",
      "Parameters: { \"max_features\", \"min_samples_leaf\", \"min_samples_split\" } are not used.\n",
      "\n"
     ]
    },
    {
     "data": {
      "text/plain": [
       "RandomizedSearchCV(cv=3,\n",
       "                   estimator=XGBClassifier(base_score=None, booster=None,\n",
       "                                           callbacks=None,\n",
       "                                           colsample_bylevel=None,\n",
       "                                           colsample_bynode=None,\n",
       "                                           colsample_bytree=None,\n",
       "                                           early_stopping_rounds=None,\n",
       "                                           enable_categorical=False,\n",
       "                                           eval_metric=None, feature_types=None,\n",
       "                                           gamma=None, gpu_id=None,\n",
       "                                           grow_policy=None,\n",
       "                                           importance_type=None,\n",
       "                                           interaction_constraints=None,\n",
       "                                           learning_rate...\n",
       "                                           monotone_constraints=None,\n",
       "                                           n_estimators=100, n_jobs=None,\n",
       "                                           num_parallel_tree=None,\n",
       "                                           predictor=None, random_state=None, ...),\n",
       "                   n_iter=5,\n",
       "                   param_distributions={'max_depth': [3, 5, 7, 10, 15, 20, 25,\n",
       "                                                      30],\n",
       "                                        'max_features': [1, 2, 3, 4, 5, 6, 7, 8,\n",
       "                                                         9],\n",
       "                                        'min_samples_leaf': [1, 2, 5, 10, 15,\n",
       "                                                             20],\n",
       "                                        'min_samples_split': [2, 5, 10, 15, 20],\n",
       "                                        'n_estimators': [100, 200, 300, 400,\n",
       "                                                         500]},\n",
       "                   random_state=10, scoring='f1')"
      ]
     },
     "execution_count": 313,
     "metadata": {},
     "output_type": "execute_result"
    }
   ],
   "source": [
    "xgb=XGBClassifier()\n",
    "rf_random=RandomizedSearchCV(estimator=xgb,param_distributions=random_grid,scoring=\"f1\",n_iter=5,cv=3,random_state=10)\n",
    "rf_random.fit(bxtrain,bytrain)"
   ]
  },
  {
   "cell_type": "code",
   "execution_count": 314,
   "id": "4f952d1e",
   "metadata": {},
   "outputs": [],
   "source": [
    "pred=rf_random.predict(xtest)"
   ]
  },
  {
   "cell_type": "code",
   "execution_count": 315,
   "id": "0090067b",
   "metadata": {},
   "outputs": [
    {
     "name": "stdout",
     "output_type": "stream",
     "text": [
      "********************Hyperparametertuning on XGBOOST*************************\n",
      "recall score: 0.8429319371727748\n",
      "precision score: 0.7241379310344828\n",
      "f1 score: 0.7790322580645161\n",
      "[[160544    184]\n",
      " [    90    483]]\n",
      "kappa score 0.7781845555170007\n",
      "              precision    recall  f1-score   support\n",
      "\n",
      "           0       1.00      1.00      1.00    160728\n",
      "           1       0.72      0.84      0.78       573\n",
      "\n",
      "    accuracy                           1.00    161301\n",
      "   macro avg       0.86      0.92      0.89    161301\n",
      "weighted avg       1.00      1.00      1.00    161301\n",
      "\n",
      "model accuracy 0.9983013124531156\n"
     ]
    }
   ],
   "source": [
    "print(\"********************Hyperparametertuning on XGBOOST*************************\")\n",
    "print(\"recall score:\",recall_score(ytest,pred))\n",
    "print(\"precision score:\",precision_score(ytest,pred))\n",
    "print(\"f1 score:\",f1_score(ytest,pred))\n",
    "print(confusion_matrix(ytest,pred))\n",
    "print(\"kappa score\",cohen_kappa_score(ytest,pred))\n",
    "print(classification_report(ytest,pred))\n",
    "print(\"model accuracy\",accuracy_score(ytest,pred))"
   ]
  },
  {
   "cell_type": "code",
   "execution_count": 316,
   "id": "5972f5b8",
   "metadata": {},
   "outputs": [
    {
     "name": "stdout",
     "output_type": "stream",
     "text": [
      "best params {'n_estimators': 300, 'min_samples_split': 20, 'min_samples_leaf': 5, 'max_features': 9, 'max_depth': 25}\n",
      "accuracy 0.9992804761631585\n"
     ]
    }
   ],
   "source": [
    "print(\"best params\",rf_random.best_params_)\n",
    "print(\"accuracy\",rf_random.best_score_)"
   ]
  },
  {
   "cell_type": "code",
   "execution_count": 317,
   "id": "357c84d4",
   "metadata": {},
   "outputs": [
    {
     "data": {
      "text/plain": [
       "<bound method BaseSearchCV.score of RandomizedSearchCV(cv=3,\n",
       "                   estimator=XGBClassifier(base_score=None, booster=None,\n",
       "                                           callbacks=None,\n",
       "                                           colsample_bylevel=None,\n",
       "                                           colsample_bynode=None,\n",
       "                                           colsample_bytree=None,\n",
       "                                           early_stopping_rounds=None,\n",
       "                                           enable_categorical=False,\n",
       "                                           eval_metric=None, feature_types=None,\n",
       "                                           gamma=None, gpu_id=None,\n",
       "                                           grow_policy=None,\n",
       "                                           importance_type=None,\n",
       "                                           interaction_constraints=None,\n",
       "                                           learning_rate...\n",
       "                                           monotone_constraints=None,\n",
       "                                           n_estimators=100, n_jobs=None,\n",
       "                                           num_parallel_tree=None,\n",
       "                                           predictor=None, random_state=None, ...),\n",
       "                   n_iter=5,\n",
       "                   param_distributions={'max_depth': [3, 5, 7, 10, 15, 20, 25,\n",
       "                                                      30],\n",
       "                                        'max_features': [1, 2, 3, 4, 5, 6, 7, 8,\n",
       "                                                         9],\n",
       "                                        'min_samples_leaf': [1, 2, 5, 10, 15,\n",
       "                                                             20],\n",
       "                                        'min_samples_split': [2, 5, 10, 15, 20],\n",
       "                                        'n_estimators': [100, 200, 300, 400,\n",
       "                                                         500]},\n",
       "                   random_state=10, scoring='f1')>"
      ]
     },
     "execution_count": 317,
     "metadata": {},
     "output_type": "execute_result"
    }
   ],
   "source": [
    "rf_random.score"
   ]
  },
  {
   "cell_type": "code",
   "execution_count": 338,
   "id": "d55f6f04",
   "metadata": {},
   "outputs": [],
   "source": [
    "from sklearn.metrics import roc_auc_score,roc_curve"
   ]
  },
  {
   "cell_type": "code",
   "execution_count": 339,
   "id": "a0213eef",
   "metadata": {},
   "outputs": [],
   "source": [
    "def roc(actual,pred_prob):\n",
    "    fpr,tpr,thres  = roc_curve(actual,pred_prob)\n",
    "    plt.plot(fpr,tpr,color='r')\n",
    "    plt.plot([0,1],[0,1],ls='--',color='b')\n",
    "    plt.xlabel('FPR AUC: %.2f'%roc_auc_score(actual,pred_prob))\n",
    "    plt.ylabel(\"TPR\")\n",
    "    plt.show()"
   ]
  },
  {
   "cell_type": "code",
   "execution_count": 343,
   "id": "2ed5156a",
   "metadata": {},
   "outputs": [],
   "source": [
    "def scores (actual,predicted):\n",
    "    print('Confusion Metrics :\\n',confusion_matrix(actual,predicted))\n",
    "    print('Accuracy :',accuracy_score(actual,predicted))\n",
    "    print('Recall :',recall_score(actual,predicted))\n",
    "    print('Precision :',precision_score(actual,predicted))\n",
    "    print('F1 Score :',f1_score(actual,predicted))\n",
    "    print('Cohen Kappa Score :', cohen_kappa_score(actual,predicted))\n",
    "    print('Classification Summary :',classification_report(actual,predicted))"
   ]
  },
  {
   "cell_type": "code",
   "execution_count": 345,
   "id": "28a73d73",
   "metadata": {},
   "outputs": [
    {
     "name": "stdout",
     "output_type": "stream",
     "text": [
      "Confusion Metrics :\n",
      " [[160544    184]\n",
      " [    90    483]]\n",
      "Accuracy : 0.9983013124531156\n",
      "Recall : 0.8429319371727748\n",
      "Precision : 0.7241379310344828\n",
      "F1 Score : 0.7790322580645161\n",
      "Cohen Kappa Score : 0.7781845555170007\n",
      "Classification Summary :               precision    recall  f1-score   support\n",
      "\n",
      "           0       1.00      1.00      1.00    160728\n",
      "           1       0.72      0.84      0.78       573\n",
      "\n",
      "    accuracy                           1.00    161301\n",
      "   macro avg       0.86      0.92      0.89    161301\n",
      "weighted avg       1.00      1.00      1.00    161301\n",
      "\n"
     ]
    }
   ],
   "source": [
    "scores(ytest,pred)"
   ]
  },
  {
   "cell_type": "code",
   "execution_count": 347,
   "id": "70336e22",
   "metadata": {},
   "outputs": [],
   "source": [
    "pred_prob=rf_random.predict_proba(xtest)[:,1]"
   ]
  },
  {
   "cell_type": "code",
   "execution_count": 349,
   "id": "82cafa31",
   "metadata": {},
   "outputs": [
    {
     "data": {
      "text/plain": [
       "array([2.2452939e-06, 4.4729109e-06, 5.6246968e-06, ..., 3.7552084e-07,\n",
       "       1.3593504e-07, 1.9282015e-07], dtype=float32)"
      ]
     },
     "execution_count": 349,
     "metadata": {},
     "output_type": "execute_result"
    }
   ],
   "source": [
    "pred_prob"
   ]
  },
  {
   "cell_type": "code",
   "execution_count": 358,
   "id": "151bbc1c",
   "metadata": {},
   "outputs": [
    {
     "data": {
      "text/plain": [
       "((161301,), (161301, 13))"
      ]
     },
     "execution_count": 358,
     "metadata": {},
     "output_type": "execute_result"
    }
   ],
   "source": [
    "ytest.shape,xtest.shape"
   ]
  },
  {
   "cell_type": "code",
   "execution_count": 348,
   "id": "2e292859",
   "metadata": {},
   "outputs": [
    {
     "data": {
      "image/png": "[encoded data removed]",
      "text/plain": [
       "<Figure size 500x300 with 1 Axes>"
      ]
     },
     "metadata": {},
     "output_type": "display_data"
    }
   ],
   "source": [
    "roc(ytest,pred_prob)"
   ]
  },
  {
   "cell_type": "code",
   "execution_count": 350,
   "id": "73f2a510",
   "metadata": {},
   "outputs": [],
   "source": [
    "pred_tree_prob=dtree.predict_proba(xtest)[:,1]"
   ]
  },
  {
   "cell_type": "code",
   "execution_count": 351,
   "id": "d43dc977",
   "metadata": {},
   "outputs": [
    {
     "data": {
      "image/png": "[encoded data removed]",
      "text/plain": [
       "<Figure size 500x300 with 1 Axes>"
      ]
     },
     "metadata": {},
     "output_type": "display_data"
    }
   ],
   "source": [
    "roc(ytest,pred_tree_prob)"
   ]
  },
  {
   "cell_type": "code",
   "execution_count": null,
   "id": "a41c85f6",
   "metadata": {},
   "outputs": [],
   "source": [
    "pred_lr_prob=mod"
   ]
  },
  {
   "cell_type": "code",
   "execution_count": null,
   "id": "141349ae",
   "metadata": {},
   "outputs": [],
   "source": []
  },
  {
   "cell_type": "code",
   "execution_count": 346,
   "id": "b302264e",
   "metadata": {},
   "outputs": [
    {
     "data": {
      "image/png": "[encoded data removed]",
      "text/plain": [
       "<Figure size 500x300 with 1 Axes>"
      ]
     },
     "metadata": {},
     "output_type": "display_data"
    }
   ],
   "source": [
    "roc(ytest,pred)"
   ]
  },
  {
   "cell_type": "code",
   "execution_count": 352,
   "id": "6d654bb6",
   "metadata": {},
   "outputs": [],
   "source": [
    "# For check FPR & TPR We use Youden Index \n",
    "fpr,tpr,thres = roc_curve(ytest,pred_prob)"
   ]
  },
  {
   "cell_type": "code",
   "execution_count": 353,
   "id": "1a302cbb",
   "metadata": {},
   "outputs": [],
   "source": [
    "data_thres = pd.DataFrame({'FPR':fpr,'TPR':tpr,'THRES':thres,'Youden Index':(tpr-fpr)})"
   ]
  },
  {
   "cell_type": "code",
   "execution_count": 354,
   "id": "98ced612",
   "metadata": {},
   "outputs": [
    {
     "data": {
      "text/html": [
       "<div>\n",
       "<style scoped>\n",
       "    .dataframe tbody tr th:only-of-type {\n",
       "        vertical-align: middle;\n",
       "    }\n",
       "\n",
       "    .dataframe tbody tr th {\n",
       "        vertical-align: top;\n",
       "    }\n",
       "\n",
       "    .dataframe thead th {\n",
       "        text-align: right;\n",
       "    }\n",
       "</style>\n",
       "<table border=\"1\" class=\"dataframe\">\n",
       "  <thead>\n",
       "    <tr style=\"text-align: right;\">\n",
       "      <th></th>\n",
       "      <th>FPR</th>\n",
       "      <th>TPR</th>\n",
       "      <th>THRES</th>\n",
       "      <th>Youden Index</th>\n",
       "    </tr>\n",
       "  </thead>\n",
       "  <tbody>\n",
       "    <tr>\n",
       "      <th>0</th>\n",
       "      <td>0.000000</td>\n",
       "      <td>0.000000</td>\n",
       "      <td>2.000000</td>\n",
       "      <td>0.000000</td>\n",
       "    </tr>\n",
       "    <tr>\n",
       "      <th>1</th>\n",
       "      <td>0.000000</td>\n",
       "      <td>0.003490</td>\n",
       "      <td>1.000000</td>\n",
       "      <td>0.003490</td>\n",
       "    </tr>\n",
       "    <tr>\n",
       "      <th>2</th>\n",
       "      <td>0.000000</td>\n",
       "      <td>0.024433</td>\n",
       "      <td>1.000000</td>\n",
       "      <td>0.024433</td>\n",
       "    </tr>\n",
       "    <tr>\n",
       "      <th>3</th>\n",
       "      <td>0.000000</td>\n",
       "      <td>0.043630</td>\n",
       "      <td>1.000000</td>\n",
       "      <td>0.043630</td>\n",
       "    </tr>\n",
       "    <tr>\n",
       "      <th>4</th>\n",
       "      <td>0.000000</td>\n",
       "      <td>0.064572</td>\n",
       "      <td>1.000000</td>\n",
       "      <td>0.064572</td>\n",
       "    </tr>\n",
       "  </tbody>\n",
       "</table>\n",
       "</div>"
      ],
      "text/plain": [
       "       FPR      TPR    THRES  Youden Index\n",
       "0 0.000000 0.000000 2.000000      0.000000\n",
       "1 0.000000 0.003490 1.000000      0.003490\n",
       "2 0.000000 0.024433 1.000000      0.024433\n",
       "3 0.000000 0.043630 1.000000      0.043630\n",
       "4 0.000000 0.064572 1.000000      0.064572"
      ]
     },
     "execution_count": 354,
     "metadata": {},
     "output_type": "execute_result"
    }
   ],
   "source": [
    "data_thres.head()"
   ]
  },
  {
   "cell_type": "code",
   "execution_count": 355,
   "id": "fe61f8b9",
   "metadata": {},
   "outputs": [
    {
     "data": {
      "text/html": [
       "<div>\n",
       "<style scoped>\n",
       "    .dataframe tbody tr th:only-of-type {\n",
       "        vertical-align: middle;\n",
       "    }\n",
       "\n",
       "    .dataframe tbody tr th {\n",
       "        vertical-align: top;\n",
       "    }\n",
       "\n",
       "    .dataframe thead th {\n",
       "        text-align: right;\n",
       "    }\n",
       "</style>\n",
       "<table border=\"1\" class=\"dataframe\">\n",
       "  <thead>\n",
       "    <tr style=\"text-align: right;\">\n",
       "      <th></th>\n",
       "      <th>FPR</th>\n",
       "      <th>TPR</th>\n",
       "      <th>THRES</th>\n",
       "      <th>Youden Index</th>\n",
       "    </tr>\n",
       "  </thead>\n",
       "  <tbody>\n",
       "    <tr>\n",
       "      <th>714</th>\n",
       "      <td>0.013657</td>\n",
       "      <td>0.982548</td>\n",
       "      <td>0.000035</td>\n",
       "      <td>0.968891</td>\n",
       "    </tr>\n",
       "    <tr>\n",
       "      <th>715</th>\n",
       "      <td>0.013663</td>\n",
       "      <td>0.982548</td>\n",
       "      <td>0.000035</td>\n",
       "      <td>0.968885</td>\n",
       "    </tr>\n",
       "    <tr>\n",
       "      <th>716</th>\n",
       "      <td>0.013688</td>\n",
       "      <td>0.982548</td>\n",
       "      <td>0.000035</td>\n",
       "      <td>0.968860</td>\n",
       "    </tr>\n",
       "    <tr>\n",
       "      <th>647</th>\n",
       "      <td>0.011946</td>\n",
       "      <td>0.980803</td>\n",
       "      <td>0.000048</td>\n",
       "      <td>0.968857</td>\n",
       "    </tr>\n",
       "    <tr>\n",
       "      <th>648</th>\n",
       "      <td>0.011958</td>\n",
       "      <td>0.980803</td>\n",
       "      <td>0.000048</td>\n",
       "      <td>0.968845</td>\n",
       "    </tr>\n",
       "  </tbody>\n",
       "</table>\n",
       "</div>"
      ],
      "text/plain": [
       "         FPR      TPR    THRES  Youden Index\n",
       "714 0.013657 0.982548 0.000035      0.968891\n",
       "715 0.013663 0.982548 0.000035      0.968885\n",
       "716 0.013688 0.982548 0.000035      0.968860\n",
       "647 0.011946 0.980803 0.000048      0.968857\n",
       "648 0.011958 0.980803 0.000048      0.968845"
      ]
     },
     "execution_count": 355,
     "metadata": {},
     "output_type": "execute_result"
    }
   ],
   "source": [
    "data_thres.sort_values(by='Youden Index',ascending = False).head()"
   ]
  },
  {
   "cell_type": "code",
   "execution_count": 377,
   "id": "f806cb0b",
   "metadata": {},
   "outputs": [],
   "source": [
    "final_pred = np.where(pred_prob >0.05 , 1, 0)"
   ]
  },
  {
   "cell_type": "code",
   "execution_count": 378,
   "id": "11419bd1",
   "metadata": {},
   "outputs": [
    {
     "name": "stdout",
     "output_type": "stream",
     "text": [
      "********************Hyperparametertuning on XGBOOST*************************\n",
      "recall score: 0.9057591623036649\n",
      "precision score: 0.6134751773049646\n",
      "f1 score: 0.7315010570824524\n",
      "[[160401    327]\n",
      " [    54    519]]\n",
      "kappa score 0.730358911149619\n",
      "              precision    recall  f1-score   support\n",
      "\n",
      "           0       1.00      1.00      1.00    160728\n",
      "           1       0.61      0.91      0.73       573\n",
      "\n",
      "    accuracy                           1.00    161301\n",
      "   macro avg       0.81      0.95      0.87    161301\n",
      "weighted avg       1.00      1.00      1.00    161301\n",
      "\n",
      "model accuracy 0.9976379563672885\n"
     ]
    }
   ],
   "source": [
    "print(\"********************Hyperparametertuning on XGBOOST*************************\")\n",
    "print(\"recall score:\",recall_score(ytest,final_pred))\n",
    "print(\"precision score:\",precision_score(ytest,final_pred))\n",
    "print(\"f1 score:\",f1_score(ytest,final_pred))\n",
    "print(confusion_matrix(ytest,final_pred))\n",
    "print(\"kappa score\",cohen_kappa_score(ytest,final_pred))\n",
    "print(classification_report(ytest,final_pred))\n",
    "print(\"model accuracy\",accuracy_score(ytest,final_pred))"
   ]
  },
  {
   "cell_type": "code",
   "execution_count": null,
   "id": "ec664733",
   "metadata": {},
   "outputs": [],
   "source": []
  }
 ],
 "metadata": {
  "kernelspec": {
   "display_name": "Python 3 (ipykernel)",
   "language": "python",
   "name": "python3"
  },
  "language_info": {
   "codemirror_mode": {
    "name": "ipython",
    "version": 3
   },
   "file_extension": ".py",
   "mimetype": "text/x-python",
   "name": "python",
   "nbconvert_exporter": "python",
   "pygments_lexer": "ipython3",
   "version": "3.9.13"
  }
 },
 "nbformat": 4,
 "nbformat_minor": 5
}
